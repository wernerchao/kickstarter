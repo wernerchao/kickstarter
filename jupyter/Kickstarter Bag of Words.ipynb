{
 "cells": [
  {
   "cell_type": "code",
   "execution_count": 162,
   "metadata": {
    "collapsed": false
   },
   "outputs": [],
   "source": [
    "%matplotlib inline  \n",
    "import numpy as np\n",
    "import pandas as pd\n",
    "\n",
    "from bs4 import BeautifulSoup\n",
    "import re\n",
    "import nltk\n",
    "from nltk.corpus import stopwords\n",
    "\n",
    "from sklearn.feature_extraction.text import CountVectorizer, TfidfVectorizer\n",
    "\n",
    "import matplotlib.pyplot as plt\n",
    "import pylab\n",
    "import seaborn as sns"
   ]
  },
  {
   "cell_type": "code",
   "execution_count": 194,
   "metadata": {
    "collapsed": false
   },
   "outputs": [],
   "source": [
    "data_0 = pd.read_csv('Kickstarter000.csv')\n",
    "data_1 = pd.read_csv('Kickstarter001.csv')\n",
    "data_2 = pd.read_csv('Kickstarter002.csv')\n",
    "data_3 = pd.read_csv('Kickstarter003.csv')\n",
    "data_4 = pd.read_csv('Kickstarter004.csv')\n",
    "data_5 = pd.read_csv('Kickstarter005.csv')\n",
    "data_6 = pd.read_csv('Kickstarter006.csv')\n",
    "data_7 = pd.read_csv('Kickstarter007.csv')\n",
    "data_8 = pd.read_csv('Kickstarter008.csv')\n",
    "data_9 = pd.read_csv('Kickstarter009.csv')\n",
    "data_10 = pd.read_csv('Kickstarter010.csv')\n",
    "data_11 = pd.read_csv('Kickstarter011.csv')"
   ]
  },
  {
   "cell_type": "code",
   "execution_count": 195,
   "metadata": {
    "collapsed": false
   },
   "outputs": [],
   "source": [
    "success = pd.concat([data_0[data_0['state'] == 'successful'], data_1[data_1['state'] == 'successful'], \\\n",
    "                     data_2[data_2['state'] == 'successful'], data_3[data_3['state'] == 'successful'], \\\n",
    "                     data_4[data_4['state'] == 'successful'], data_5[data_5['state'] == 'successful'], \\\n",
    "                     data_6[data_6['state'] == 'successful'], data_7[data_7['state'] == 'successful'], \\\n",
    "                     data_8[data_8['state'] == 'successful'], data_9[data_9['state'] == 'successful'], \\\n",
    "                     data_10[data_10['state'] == 'successful'], data_11[data_11['state'] == 'successful'], \\\n",
    "                    ])\n",
    "fail = pd.concat([data_0[data_0['state'] == 'failed'], data_1[data_1['state'] == 'failed'], \\\n",
    "                     data_2[data_2['state'] == 'failed'], data_3[data_3['state'] == 'failed'], \\\n",
    "                     data_4[data_4['state'] == 'failed'], data_5[data_5['state'] == 'failed'], \\\n",
    "                     data_6[data_6['state'] == 'failed'], data_7[data_7['state'] == 'failed'], \\\n",
    "                     data_8[data_8['state'] == 'failed'], data_9[data_9['state'] == 'failed'], \\\n",
    "                     data_10[data_10['state'] == 'failed'], data_11[data_11['state'] == 'failed'], \\\n",
    "                    ])"
   ]
  },
  {
   "cell_type": "code",
   "execution_count": 197,
   "metadata": {
    "collapsed": false
   },
   "outputs": [
    {
     "name": "stdout",
     "output_type": "stream",
     "text": [
      "(17276, 32)\n",
      "(4747, 32)\n"
     ]
    }
   ],
   "source": [
    "print success.shape\n",
    "print fail.shape"
   ]
  },
  {
   "cell_type": "code",
   "execution_count": 94,
   "metadata": {
    "collapsed": false
   },
   "outputs": [
    {
     "name": "stdout",
     "output_type": "stream",
     "text": [
      "20    You know you \"toilet text”. Your phone may hav...\n",
      "21    Track your gps ball from tees to trees. Christ...\n",
      "22    A cellphone charger that is powered by the use...\n",
      "23    Car Location Locator works with GPS signals an...\n",
      "24    The revolutionary AiDrive features Certified L...\n",
      "Name: blurb, dtype: object\n",
      "0    Debauchery, laughter, violence and politics. W...\n",
      "1    Bring a touring character education play about...\n",
      "2    1984. An IRA bomb explodes at the Grand Hotel....\n",
      "3    Zoe is a teenage girl growing up in a deeply d...\n",
      "4    Theaterprojekt 12. Kl. Waldorfschule Essen. 2 ...\n",
      "Name: blurb, dtype: object\n"
     ]
    }
   ],
   "source": [
    "print fail['blurb'].head()\n",
    "print success['blurb'].head()"
   ]
  },
  {
   "cell_type": "code",
   "execution_count": null,
   "metadata": {
    "collapsed": true
   },
   "outputs": [],
   "source": []
  },
  {
   "cell_type": "code",
   "execution_count": 200,
   "metadata": {
    "collapsed": false
   },
   "outputs": [],
   "source": [
    "def review_to_wordlist(i, raw, remove_stopwords=False, join_with_space=False):\n",
    "        ''' Clean one review with optional removing stop words, & join the output with space. '''\n",
    "\n",
    "        if pd.isnull(raw):\n",
    "            print i, ':', raw\n",
    "        else:\n",
    "            letters_only = re.sub('[^a-zA-Z]', ' ', raw)\n",
    "            words = letters_only.lower().split()\n",
    "            # Make a set of stopwords\n",
    "            if remove_stopwords:\n",
    "                stop_words = set(stopwords.words(\"english\"))\n",
    "                meaningful_words = [w for w in words if not w in stop_words]\n",
    "            if join_with_space:\n",
    "                return ' '.join(meaningful_words)\n",
    "            else:\n",
    "                return words\n",
    "\n",
    "\n",
    "def get_all_cleaned(raw, remove_stopwords=False, join_with_space=False):\n",
    "    ''' Loop through all reviews, and preprocess all reviews. '''\n",
    "\n",
    "    num_reviews = raw.size\n",
    "    clean_reviews = []\n",
    "    print \"Cleaning and parsing the data set movie reviews...\\n\"\n",
    "    for i, raw_item in enumerate(raw):\n",
    "        if i%5000 == 0:\n",
    "            print 'Review %d of %d\\n' %(i, num_reviews)\n",
    "        clean_reviews.append(review_to_wordlist(i, raw_item, \\\n",
    "                                                    remove_stopwords, \\\n",
    "                                                    join_with_space))\n",
    "    return clean_reviews"
   ]
  },
  {
   "cell_type": "code",
   "execution_count": 201,
   "metadata": {
    "collapsed": false
   },
   "outputs": [
    {
     "name": "stdout",
     "output_type": "stream",
     "text": [
      "Check for total NaN values:  0\n",
      "Cleaning success blurb...\n",
      "Cleaning and parsing the data set movie reviews...\n",
      "\n",
      "Review 0 of 17276\n",
      "\n",
      "Review 5000 of 17276\n",
      "\n",
      "Review 10000 of 17276\n",
      "\n",
      "Review 15000 of 17276\n",
      "\n",
      "Cleaning fail blurb...\n",
      "Cleaning and parsing the data set movie reviews...\n",
      "\n",
      "Review 0 of 4747\n",
      "\n"
     ]
    }
   ],
   "source": [
    "print 'Check for total NaN values: ', sum(pd.isnull(success.iloc[:]['blurb']))\n",
    "print 'Cleaning success blurb...'\n",
    "success_blurbs = get_all_cleaned(success['blurb'], True, True)\n",
    "\n",
    "print 'Cleaning fail blurb...'\n",
    "fail_blurbs = get_all_cleaned(fail['blurb'], True, True)"
   ]
  },
  {
   "cell_type": "code",
   "execution_count": 202,
   "metadata": {
    "collapsed": false
   },
   "outputs": [
    {
     "name": "stdout",
     "output_type": "stream",
     "text": [
      "17276 4747\n",
      "17276 4747\n",
      "['debauchery laughter violence politics want help drama soc production posh best', 'bring touring character education play making wise choices elementary students kentuckiana vote kylie president']\n",
      "['know toilet text phone may harmful germs solution cleaner cube stick need', 'track gps ball tees trees christmas birthdays fathers day corp charity tournies retirement best gift ever']\n"
     ]
    }
   ],
   "source": [
    "print len(success_blurbs), len(fail_blurbs)\n",
    "success_blurbs = [x for x in success_blurbs if x is not None]\n",
    "fail_blurbs = [x for x in fail_blurbs if x is not None]\n",
    "print len(success_blurbs), len(fail_blurbs)\n",
    "\n",
    "print success_blurbs[0:2]\n",
    "print fail_blurbs[0:2]"
   ]
  },
  {
   "cell_type": "code",
   "execution_count": null,
   "metadata": {
    "collapsed": true
   },
   "outputs": [],
   "source": []
  },
  {
   "cell_type": "code",
   "execution_count": null,
   "metadata": {
    "collapsed": true
   },
   "outputs": [],
   "source": []
  },
  {
   "cell_type": "code",
   "execution_count": 232,
   "metadata": {
    "collapsed": false
   },
   "outputs": [
    {
     "name": "stdout",
     "output_type": "stream",
     "text": [
      "(17276, 500)\n",
      "(4747, 500)\n"
     ]
    }
   ],
   "source": [
    "# Use tf-idf\n",
    "success_tf = TfidfVectorizer(min_df=2, \\\n",
    "                            max_df=0.75, \\\n",
    "                            max_features=500, \\\n",
    "                            ngram_range=(1, 4), \\\n",
    "                            sublinear_tf=True)\n",
    "success_tf_bow = success_tf.fit_transform(success_blurbs)\n",
    "print success_tf_bow.shape\n",
    "\n",
    "fail_tf = TfidfVectorizer(min_df=2, \\\n",
    "                            max_df=0.75, \\\n",
    "                            max_features=500, \\\n",
    "                            ngram_range=(1, 4), \\\n",
    "                            sublinear_tf=False)\n",
    "fail_tf_bow = fail_tf.fit_transform(fail_blurbs)\n",
    "print fail_tf_bow.shape"
   ]
  },
  {
   "cell_type": "code",
   "execution_count": 233,
   "metadata": {
    "collapsed": false
   },
   "outputs": [
    {
     "name": "stdout",
     "output_type": "stream",
     "text": [
      "<class 'scipy.sparse.csr.csr_matrix'>\n",
      "<class 'pandas.core.frame.DataFrame'>\n",
      "<class 'pandas.core.frame.DataFrame'>\n"
     ]
    }
   ],
   "source": [
    "# Convert Scipy sparse matrix to Pandas dataframe\n",
    "\n",
    "# For fail.\n",
    "print type(fail_tf_bow)\n",
    "df_tf_fail = pd.DataFrame([ pd.Series(fail_tf_bow[i].toarray().ravel()) \\\n",
    "                              for i in np.arange(fail_tf_bow.shape[0]) ])\n",
    "print type(df_fail)\n",
    "\n",
    "# For success.\n",
    "df_tf_success = pd.DataFrame([ pd.Series(success_tf_bow[i].toarray().ravel()) \\\n",
    "                              for i in np.arange(success_tf_bow.shape[0]) ])\n",
    "print type(df_success)"
   ]
  },
  {
   "cell_type": "code",
   "execution_count": 234,
   "metadata": {
    "collapsed": false
   },
   "outputs": [
    {
     "name": "stdout",
     "output_type": "stream",
     "text": [
      "476    121.925176\n",
      "189    118.468475\n",
      "281    106.918045\n",
      "292     98.460310\n",
      "303     92.197888\n",
      "486     91.628225\n",
      "394     88.961843\n",
      "316     76.139932\n",
      "252     74.280630\n",
      "229     70.983085\n",
      "88      70.371236\n",
      "468     69.875782\n",
      "291     68.192593\n",
      "389     67.251572\n",
      "172     67.015276\n",
      "69      66.124189\n",
      "154     65.383023\n",
      "74      65.018564\n",
      "153     64.401342\n",
      "317     64.291433\n",
      "157     62.927571\n",
      "21      61.691744\n",
      "275     58.898328\n",
      "474     58.658889\n",
      "274     58.477259\n",
      "472     57.550103\n",
      "433     57.107319\n",
      "453     54.981952\n",
      "429     54.733153\n",
      "273     54.675699\n",
      "          ...    \n",
      "95       9.884521\n",
      "492      9.880545\n",
      "94       9.863569\n",
      "241      9.859537\n",
      "406      9.850527\n",
      "168      9.836245\n",
      "305      9.822836\n",
      "245      9.733967\n",
      "349      9.712438\n",
      "8        9.706715\n",
      "3        9.687465\n",
      "307      9.644118\n",
      "334      9.619756\n",
      "298      9.617794\n",
      "89       9.617036\n",
      "81       9.574636\n",
      "452      9.550662\n",
      "87       9.542778\n",
      "6        9.430909\n",
      "283      9.399482\n",
      "467      9.350732\n",
      "170      9.242333\n",
      "352      9.102966\n",
      "421      9.063699\n",
      "430      9.025902\n",
      "282      8.944080\n",
      "268      8.919905\n",
      "343      8.836108\n",
      "121      8.767720\n",
      "368      8.730575\n",
      "dtype: float64\n",
      "Int64Index([476, 189, 281, 292, 303, 486, 394, 316, 252, 229], dtype='int64')\n",
      "55     756.208767\n",
      "297    458.797596\n",
      "205    445.948779\n",
      "487    381.398792\n",
      "418    348.908269\n",
      "163    325.122690\n",
      "247    289.991847\n",
      "77     289.952591\n",
      "305    289.911820\n",
      "26     280.148524\n",
      "286    243.495462\n",
      "417    237.961274\n",
      "263    213.137741\n",
      "460    212.095107\n",
      "302    208.858460\n",
      "269    201.417218\n",
      "355    200.624505\n",
      "444    192.725744\n",
      "316    189.255979\n",
      "186    189.014211\n",
      "392    188.101735\n",
      "333    172.561632\n",
      "293    169.889388\n",
      "82     168.975053\n",
      "456    156.545843\n",
      "236    153.006182\n",
      "498    152.091267\n",
      "99     149.607935\n",
      "266    147.735340\n",
      "217    142.000666\n",
      "          ...    \n",
      "44      37.343217\n",
      "12      37.320273\n",
      "228     37.145765\n",
      "471     37.142796\n",
      "379     37.049756\n",
      "394     36.852250\n",
      "75      36.744004\n",
      "419     36.468275\n",
      "399     36.397132\n",
      "17      36.333048\n",
      "69      36.331697\n",
      "291     36.272611\n",
      "157     36.161959\n",
      "231     35.710225\n",
      "97      35.580580\n",
      "449     35.441848\n",
      "495     35.383883\n",
      "401     35.188220\n",
      "56      34.938725\n",
      "281     34.542822\n",
      "115     34.480429\n",
      "121     34.451979\n",
      "407     34.257441\n",
      "210     34.017873\n",
      "2       33.881650\n",
      "31      31.596098\n",
      "211     30.896256\n",
      "128     30.871058\n",
      "175     30.290412\n",
      "335     29.891448\n",
      "dtype: float64\n",
      "Int64Index([55, 297, 205, 487, 418, 163, 247, 77, 305, 26], dtype='int64')\n"
     ]
    }
   ],
   "source": [
    "top_ten_tf_fail = df_tf_fail.sum(axis=0).sort_values(ascending=False)\n",
    "print top_ten_tf_fail\n",
    "print top_ten_tf_fail.index[0:10]\n",
    "\n",
    "top_ten_tf_success = df_tf_success.sum(axis=0).sort_values(ascending=False)\n",
    "print top_ten_tf_success\n",
    "print top_ten_tf_success.index[0:10]"
   ]
  },
  {
   "cell_type": "code",
   "execution_count": 245,
   "metadata": {
    "collapsed": false
   },
   "outputs": [
    {
     "name": "stdout",
     "output_type": "stream",
     "text": [
      "{u'bringing': 49, u'kids': 217, u'company': 76, u'learn': 224, u'help us': 190, u'video': 461, u'makes': 253, u'comedy': 71, u'books': 46, u'could': 86, u'become': 39, u'innovative': 207, u'production': 330, u'haunted': 187, u'develop': 107, u'exciting': 140, u'american': 17, u'personal': 309, u'get': 172, u'across': 2, u'services': 377, u'like': 232, u'today': 435, u'questions': 346, u'long': 242, u'gaming': 170, u'new': 281, u'best': 40, u'life': 229, u'ideas': 200, u'people': 303, u'current': 94, u'costs': 85, u'imagine': 201, u'set': 378, u'see': 371, u'community': 74, u'fund': 163, u'location': 240, u'actors': 5, u'secure': 370, u'global': 177, u'change': 61, u'dedicated': 104, u'en': 124, u'theater': 428, u'real': 351, u'read': 350, u'feel': 150, u'food': 156, u'run': 361, u'products': 331, u'tell': 425, u'stop': 408, u'arts': 30, u'audience': 31, u'entertainment': 128, u'idea': 199, u'interactive': 208, u'create': 88, u'pet': 310, u'works': 485, u'buy': 56, u'end': 125, u'record': 354, u'fun': 162, u'back': 35, u'open': 294, u'around': 25, u'create website': 89, u'us': 453, u'uk': 449, u'software': 398, u'created': 90, u'true': 444, u'car': 58, u'happen': 186, u'care': 59, u'price': 325, u'help': 189, u'stage play': 406, u'based': 37, u'well': 478, u'features': 148, u'website': 476, u'reviews': 358, u'man': 255, u'gamers': 168, u'jobs': 213, u'members': 264, u'part': 300, u'power': 323, u'buy sell': 57, u'london': 241, u'environment': 130, u'rent': 355, u'college': 68, u'style': 414, u'real time': 352, u'made': 249, u'easy': 120, u'offer': 288, u'talents': 421, u'favorite': 147, u'events': 135, u'great': 182, u'mobile app': 268, u'custom': 95, u'device': 110, u'online': 292, u'building': 52, u'consumers': 81, u'even': 133, u'ever': 136, u'living': 238, u'track': 440, u'different': 111, u'built': 53, u'build': 51, u'raise': 348, u'phone': 311, u'review': 357, u'blog': 43, u'entrepreneurs': 129, u'view': 463, u'english': 127, u'funds': 165, u'working': 484, u'internet': 210, u'wants': 470, u'also': 12, u'next': 286, u'worldwide': 489, u'web': 474, u'musical': 274, u'cost': 84, u'product': 329, u'non': 287, u'using': 459, u'podcast': 320, u'lives': 237, u'friendly': 158, u'powerful': 324, u'magazine': 250, u'journey': 215, u'awareness': 34, u'development': 109, u'alternative': 13, u'access': 1, u'chat': 62, u'able': 0, u'level': 228, u'turn': 446, u'featuring': 149, u'without': 480, u'list': 234, u'users': 457, u'showcase': 386, u'local': 239, u'need help': 276, u'person': 308, u'would like': 491, u'industry': 205, u'original': 296, u'young': 498, u'always': 14, u'play': 317, u'line': 233, u'com': 69, u'voice': 466, u'world first': 487, u'adults': 6, u'keep': 216, u'providing': 341, u'companies': 75, u'videos': 462, u'seeking': 372, u'everyone': 138, u'funding': 164, u'private': 326, u'la': 221, u'join': 214, u'movement': 271, u'provides': 340, u'health': 188, u'city': 66, u'dark': 98, u'tv': 447, u'th': 427, u'site': 389, u'band': 36, u'perform': 305, u'looking': 244, u'low': 248, u'game': 167, u'modern': 269, u'online platform': 293, u'smartphone': 393, u'little': 235, u'anyone': 18, u'important': 202, u'helps': 192, u'radio': 347, u'games': 169, u'social network': 396, u'offers': 289, u'promote': 338, u'communities': 73, u'creating': 91, u'raising': 349, u'light': 231, u'right': 360, u'course': 87, u'training': 442, u'summer': 415, u'tools': 438, u'new musical': 282, u'chance': 60, u'discover': 113, u'learning': 225, u'event': 134, u'revolutionary': 359, u'mobile': 267, u'quality': 345, u'need': 275, u'artists': 29, u'networking': 279, u'better': 41, u'content': 82, u'sharing': 381, u'theatre': 429, u'pay': 302, u'running': 362, u'share': 380, u'youth': 499, u'women': 482, u'loved': 247, u'photography': 312, u'writing': 493, u'free': 157, u'come': 70, u'generation': 171, u'want create': 469, u'want': 468, u'travel': 443, u'much': 272, u'photos': 313, u'technology': 424, u'parents': 299, u'new social': 283, u'information': 206, u'year': 496, u'professionals': 333, u'around world': 26, u'application': 22, u'manage': 256, u'meet': 263, u'university': 452, u'times': 434, u'years': 497, u'new way': 284, u'marketplace': 260, u'education': 122, u'men': 265, u'user': 456, u'shakespeare': 379, u'social media': 395, u'first': 154, u'needs': 277, u'watch': 471, u'knowledge': 220, u'full': 161, u'experience': 141, u'platform': 316, u'story': 411, u'store': 409, u'kind': 218, u'job': 212, u'last': 223, u'never': 280, u'child': 63, u'social networking': 397, u'data': 99, u'vote': 467, u'future': 166, u'take': 418, u'act': 3, u'resources': 356, u'beautiful': 38, u'anything': 19, u'high': 193, u'hope': 196, u'activities': 4, u'together': 436, u'live': 236, u'space': 402, u'put': 344, u'used': 455, u'uses': 458, u'go': 178, u'cloud': 67, u'written': 494, u'give': 174, u'et': 131, u'www': 495, u'language': 222, u'safe': 363, u'students': 413, u'search': 367, u'magic': 251, u'virtual': 464, u'every': 137, u'tool': 437, u'fashion': 145, u'improve': 203, u'christmas': 65, u'program': 335, u'woman': 481, u'design': 105, u'something': 400, u'produce': 328, u'let': 226, u'apps': 23, u'easier': 118, u'series': 375, u'easy use': 121, u'project': 336, u'support': 416, u'st': 404, u'many': 258, u'educational': 123, u'owners': 298, u'bring': 48, u'aim': 8, u'system': 417, u'album': 9, u'history': 194, u'management': 257, u'stories': 410, u'mind': 266, u'human': 198, u'performing': 307, u'theatrical': 431, u'shows': 387, u'shop': 382, u'show': 385, u'money': 270, u'fringe': 160, u'two': 448, u'fans': 144, u'connecting': 79, u'teachers': 422, u'fitness': 155, u'engine': 126, u'goal': 179, u'home': 195, u'helping': 191, u'worlds': 488, u'things': 432, u'creative': 92, u'time': 433, u'going': 180, u'artist': 28, u'complete': 77, u'social': 394, u'projects': 337, u'etc': 132, u'work': 483, u'order': 295, u'reality': 353, u'dance': 97, u'professional': 332, u'business': 54, u'area': 24, u'connects': 80, u'purchase': 343, u'search engine': 368, u'performance': 306, u'shopping': 383, u'children': 64, u'house': 197, u'connect': 78, u'find': 153, u'please': 319, u'body': 44, u'coming': 72, u'season': 369, u'designed': 106, u'businesses': 55, u'book': 45, u'music': 273, u'service': 376, u'one': 291, u'world': 486, u'small': 391, u'sell': 374, u'self': 373, u'individuals': 204, u'perfect': 304, u'festival': 151, u'audio': 32, u'lifestyle': 230, u'provide': 339, u'america': 16, u'start': 407, u'safety': 364, u'culture': 93, u'guide': 184, u'party': 301, u'lost': 245, u'would': 490, u'international': 209, u'visit': 465, u'making': 254, u'group': 183, u'facebook': 142, u'source': 401, u'talent': 420, u'smart': 392, u'school': 366, u'news': 285, u'lets': 227, u'short': 384, u'database': 100, u'app': 21, u'possible': 321, u'unique': 451, u'team': 423, u'un': 450, u'allow': 10, u'web based': 475, u'stage': 405, u'websites': 477, u'developing': 108, u'media': 261, u'trying': 445, u'solution': 399, u'medical': 262, u'digital': 112, u'giving': 176, u'profit': 334, u'pro': 327, u'fast': 146, u'issues': 211, u'use': 454, u'big': 42, u'drama': 115, u'available': 33, u'dating': 101, u'post': 322, u'way': 472, u'save': 365, u'family': 143, u'dream': 116, u'love': 246, u'within': 479, u'hands': 185, u'friends': 159, u'look': 243, u'dog': 114, u'amazing': 15, u'make': 252, u'dreams': 117, u'affordable': 7, u'film': 152, u'public': 342, u'simple': 388, u'taking': 419, u'top': 439, u'sports': 403, u'place': 314, u'gives': 175, u'theatre company': 430, u'plan': 315, u'anywhere': 20, u'student': 412, u'brings': 50, u'wearable': 473, u'old': 290, u'via': 460, u'trade': 441, u'network': 278, u'everything': 139, u'market': 259, u'write': 492, u'plays': 318, u'control': 83, u'skills': 390, u'daily': 96, u'good': 181, u'easily': 119, u'others': 297, u'de': 103, u'day': 102, u'text': 426, u'brand': 47, u'allows': 11, u'art': 27, u'know': 219, u'getting': 173}\n",
      "\n",
      "{0: u'able', 1: u'access', 2: u'across', 3: u'act', 4: u'activities', 5: u'actors', 6: u'adults', 7: u'affordable', 8: u'aim', 9: u'album', 10: u'allow', 11: u'allows', 12: u'also', 13: u'alternative', 14: u'always', 15: u'amazing', 16: u'america', 17: u'american', 18: u'anyone', 19: u'anything', 20: u'anywhere', 21: u'app', 22: u'application', 23: u'apps', 24: u'area', 25: u'around', 26: u'around world', 27: u'art', 28: u'artist', 29: u'artists', 30: u'arts', 31: u'audience', 32: u'audio', 33: u'available', 34: u'awareness', 35: u'back', 36: u'band', 37: u'based', 38: u'beautiful', 39: u'become', 40: u'best', 41: u'better', 42: u'big', 43: u'blog', 44: u'body', 45: u'book', 46: u'books', 47: u'brand', 48: u'bring', 49: u'bringing', 50: u'brings', 51: u'build', 52: u'building', 53: u'built', 54: u'business', 55: u'businesses', 56: u'buy', 57: u'buy sell', 58: u'car', 59: u'care', 60: u'chance', 61: u'change', 62: u'chat', 63: u'child', 64: u'children', 65: u'christmas', 66: u'city', 67: u'cloud', 68: u'college', 69: u'com', 70: u'come', 71: u'comedy', 72: u'coming', 73: u'communities', 74: u'community', 75: u'companies', 76: u'company', 77: u'complete', 78: u'connect', 79: u'connecting', 80: u'connects', 81: u'consumers', 82: u'content', 83: u'control', 84: u'cost', 85: u'costs', 86: u'could', 87: u'course', 88: u'create', 89: u'create website', 90: u'created', 91: u'creating', 92: u'creative', 93: u'culture', 94: u'current', 95: u'custom', 96: u'daily', 97: u'dance', 98: u'dark', 99: u'data', 100: u'database', 101: u'dating', 102: u'day', 103: u'de', 104: u'dedicated', 105: u'design', 106: u'designed', 107: u'develop', 108: u'developing', 109: u'development', 110: u'device', 111: u'different', 112: u'digital', 113: u'discover', 114: u'dog', 115: u'drama', 116: u'dream', 117: u'dreams', 118: u'easier', 119: u'easily', 120: u'easy', 121: u'easy use', 122: u'education', 123: u'educational', 124: u'en', 125: u'end', 126: u'engine', 127: u'english', 128: u'entertainment', 129: u'entrepreneurs', 130: u'environment', 131: u'et', 132: u'etc', 133: u'even', 134: u'event', 135: u'events', 136: u'ever', 137: u'every', 138: u'everyone', 139: u'everything', 140: u'exciting', 141: u'experience', 142: u'facebook', 143: u'family', 144: u'fans', 145: u'fashion', 146: u'fast', 147: u'favorite', 148: u'features', 149: u'featuring', 150: u'feel', 151: u'festival', 152: u'film', 153: u'find', 154: u'first', 155: u'fitness', 156: u'food', 157: u'free', 158: u'friendly', 159: u'friends', 160: u'fringe', 161: u'full', 162: u'fun', 163: u'fund', 164: u'funding', 165: u'funds', 166: u'future', 167: u'game', 168: u'gamers', 169: u'games', 170: u'gaming', 171: u'generation', 172: u'get', 173: u'getting', 174: u'give', 175: u'gives', 176: u'giving', 177: u'global', 178: u'go', 179: u'goal', 180: u'going', 181: u'good', 182: u'great', 183: u'group', 184: u'guide', 185: u'hands', 186: u'happen', 187: u'haunted', 188: u'health', 189: u'help', 190: u'help us', 191: u'helping', 192: u'helps', 193: u'high', 194: u'history', 195: u'home', 196: u'hope', 197: u'house', 198: u'human', 199: u'idea', 200: u'ideas', 201: u'imagine', 202: u'important', 203: u'improve', 204: u'individuals', 205: u'industry', 206: u'information', 207: u'innovative', 208: u'interactive', 209: u'international', 210: u'internet', 211: u'issues', 212: u'job', 213: u'jobs', 214: u'join', 215: u'journey', 216: u'keep', 217: u'kids', 218: u'kind', 219: u'know', 220: u'knowledge', 221: u'la', 222: u'language', 223: u'last', 224: u'learn', 225: u'learning', 226: u'let', 227: u'lets', 228: u'level', 229: u'life', 230: u'lifestyle', 231: u'light', 232: u'like', 233: u'line', 234: u'list', 235: u'little', 236: u'live', 237: u'lives', 238: u'living', 239: u'local', 240: u'location', 241: u'london', 242: u'long', 243: u'look', 244: u'looking', 245: u'lost', 246: u'love', 247: u'loved', 248: u'low', 249: u'made', 250: u'magazine', 251: u'magic', 252: u'make', 253: u'makes', 254: u'making', 255: u'man', 256: u'manage', 257: u'management', 258: u'many', 259: u'market', 260: u'marketplace', 261: u'media', 262: u'medical', 263: u'meet', 264: u'members', 265: u'men', 266: u'mind', 267: u'mobile', 268: u'mobile app', 269: u'modern', 270: u'money', 271: u'movement', 272: u'much', 273: u'music', 274: u'musical', 275: u'need', 276: u'need help', 277: u'needs', 278: u'network', 279: u'networking', 280: u'never', 281: u'new', 282: u'new musical', 283: u'new social', 284: u'new way', 285: u'news', 286: u'next', 287: u'non', 288: u'offer', 289: u'offers', 290: u'old', 291: u'one', 292: u'online', 293: u'online platform', 294: u'open', 295: u'order', 296: u'original', 297: u'others', 298: u'owners', 299: u'parents', 300: u'part', 301: u'party', 302: u'pay', 303: u'people', 304: u'perfect', 305: u'perform', 306: u'performance', 307: u'performing', 308: u'person', 309: u'personal', 310: u'pet', 311: u'phone', 312: u'photography', 313: u'photos', 314: u'place', 315: u'plan', 316: u'platform', 317: u'play', 318: u'plays', 319: u'please', 320: u'podcast', 321: u'possible', 322: u'post', 323: u'power', 324: u'powerful', 325: u'price', 326: u'private', 327: u'pro', 328: u'produce', 329: u'product', 330: u'production', 331: u'products', 332: u'professional', 333: u'professionals', 334: u'profit', 335: u'program', 336: u'project', 337: u'projects', 338: u'promote', 339: u'provide', 340: u'provides', 341: u'providing', 342: u'public', 343: u'purchase', 344: u'put', 345: u'quality', 346: u'questions', 347: u'radio', 348: u'raise', 349: u'raising', 350: u'read', 351: u'real', 352: u'real time', 353: u'reality', 354: u'record', 355: u'rent', 356: u'resources', 357: u'review', 358: u'reviews', 359: u'revolutionary', 360: u'right', 361: u'run', 362: u'running', 363: u'safe', 364: u'safety', 365: u'save', 366: u'school', 367: u'search', 368: u'search engine', 369: u'season', 370: u'secure', 371: u'see', 372: u'seeking', 373: u'self', 374: u'sell', 375: u'series', 376: u'service', 377: u'services', 378: u'set', 379: u'shakespeare', 380: u'share', 381: u'sharing', 382: u'shop', 383: u'shopping', 384: u'short', 385: u'show', 386: u'showcase', 387: u'shows', 388: u'simple', 389: u'site', 390: u'skills', 391: u'small', 392: u'smart', 393: u'smartphone', 394: u'social', 395: u'social media', 396: u'social network', 397: u'social networking', 398: u'software', 399: u'solution', 400: u'something', 401: u'source', 402: u'space', 403: u'sports', 404: u'st', 405: u'stage', 406: u'stage play', 407: u'start', 408: u'stop', 409: u'store', 410: u'stories', 411: u'story', 412: u'student', 413: u'students', 414: u'style', 415: u'summer', 416: u'support', 417: u'system', 418: u'take', 419: u'taking', 420: u'talent', 421: u'talents', 422: u'teachers', 423: u'team', 424: u'technology', 425: u'tell', 426: u'text', 427: u'th', 428: u'theater', 429: u'theatre', 430: u'theatre company', 431: u'theatrical', 432: u'things', 433: u'time', 434: u'times', 435: u'today', 436: u'together', 437: u'tool', 438: u'tools', 439: u'top', 440: u'track', 441: u'trade', 442: u'training', 443: u'travel', 444: u'true', 445: u'trying', 446: u'turn', 447: u'tv', 448: u'two', 449: u'uk', 450: u'un', 451: u'unique', 452: u'university', 453: u'us', 454: u'use', 455: u'used', 456: u'user', 457: u'users', 458: u'uses', 459: u'using', 460: u'via', 461: u'video', 462: u'videos', 463: u'view', 464: u'virtual', 465: u'visit', 466: u'voice', 467: u'vote', 468: u'want', 469: u'want create', 470: u'wants', 471: u'watch', 472: u'way', 473: u'wearable', 474: u'web', 475: u'web based', 476: u'website', 477: u'websites', 478: u'well', 479: u'within', 480: u'without', 481: u'woman', 482: u'women', 483: u'work', 484: u'working', 485: u'works', 486: u'world', 487: u'world first', 488: u'worlds', 489: u'worldwide', 490: u'would', 491: u'would like', 492: u'write', 493: u'writing', 494: u'written', 495: u'www', 496: u'year', 497: u'years', 498: u'young', 499: u'youth'}\n",
      "{u'bringing': 61, u'company': 90, u'learn': 243, u'help us': 207, u'video': 464, u'full color': 175, u'nature': 292, u'become': 46, u'innovative': 221, u'production': 352, u'night': 300, u'death': 110, u'exciting': 140, u'camera': 68, u'meets': 276, u'get': 186, u'like': 249, u'today': 445, u'second': 389, u'new': 297, u'best': 48, u'set': 393, u'community': 89, u'fund': 178, u'makes': 270, u'comedy': 87, u'change': 73, u'dedicated': 112, u'food': 167, u'battery': 42, u'contemporary': 95, u'calendar': 67, u'teaches': 433, u'four': 169, u'open': 307, u'around': 24, u'limited edition': 251, u'photo book': 322, u'things': 441, u'true': 453, u'life': 247, u'creative': 102, u'american': 15, u'based': 41, u'think': 442, u'inspiring': 224, u'limited': 250, u'urban': 459, u'wireless': 478, u'style': 422, u'memoir': 277, u'fun': 177, u'made': 265, u'age': 7, u'online': 306, u'presents': 345, u'finally': 159, u'girl': 187, u'living': 256, u'different': 118, u'movement': 284, u'raise': 365, u'phone': 320, u'mystery': 290, u'dance': 104, u'women': 481, u'funds': 180, u'century': 72, u'working': 485, u'internet': 227, u'full': 174, u'also': 12, u'web': 474, u'coffee': 81, u'musical': 287, u'non': 301, u'powerful': 342, u'amazing': 13, u'tells': 437, u'filled': 157, u'imagination': 220, u'need help': 294, u'love': 263, u'visual': 465, u'art book': 27, u'original': 310, u'action': 1, u'play': 333, u'led': 245, u'let': 246, u'com': 85, u'please': 334, u'growing': 198, u'everyone': 138, u'enjoy': 132, u'writers': 491, u'pi': 328, u'city': 79, u'illustrated': 217, u'dark': 105, u'world first': 488, u'takes': 428, u'heart': 204, u'publish': 359, u'book featuring': 56, u'record': 375, u'rock': 381, u'capture': 69, u'modern': 282, u'smartphone': 404, u'little': 253, u'zine': 499, u'open source': 308, u'radio': 364, u'year old': 495, u'help fund': 206, u'present': 344, u'musicians': 288, u'season': 388, u'discover': 120, u'learning': 244, u'mobile': 280, u'quality': 363, u'need': 293, u'artists': 29, u'better': 49, u'theatre': 440, u'share': 395, u'big': 50, u'photographs': 325, u'photography': 326, u'see': 390, u'generation': 185, u'words': 483, u'travel': 452, u'west': 476, u'essays': 134, u'year': 494, u'children book': 78, u'around world': 25, u'meet': 275, u'one': 305, u'everything': 139, u'platform': 332, u'adventure': 4, u'volume': 467, u'data': 106, u'take': 427, u'beautiful': 43, u'cover': 98, u'high': 209, u'edition': 129, u'perfect': 317, u'space': 412, u'touch': 449, u'put': 362, u'go': 191, u'poetry': 338, u'allows': 10, u'give': 189, u'search': 387, u'every': 137, u'hand': 200, u'tool': 448, u'color': 83, u'program': 354, u'woman': 480, u'design': 113, u'hardcover': 203, u'table': 426, u'create': 99, u'project': 355, u'support': 424, u'devices': 117, u'poems': 337, u'album': 9, u'issue': 230, u'works': 486, u'anthology': 18, u'guide': 199, u'kit': 237, u'tale': 430, u'eyes': 146, u'show': 398, u'fringe': 173, u'god': 193, u'two': 456, u'iphone': 229, u'goal': 192, u'home': 213, u'beauty': 45, u'along': 11, u'explores': 144, u'going': 194, u'artist': 28, u'complete': 92, u'social': 405, u'powered': 341, u'told': 447, u'word': 482, u'work': 484, u'reality': 374, u'usb': 461, u'making': 271, u'exhibition': 141, u'children': 77, u'fine': 161, u'find': 160, u'exploring': 145, u'book': 55, u'printer': 349, u'printed': 348, u'last': 241, u'horror': 215, u'culture': 103, u'awesome': 38, u'lost': 262, u'group': 197, u'source': 410, u'epic': 133, u'female': 153, u'would': 489, u'fantasy': 148, u'computer': 93, u'short': 396, u'app': 22, u'unique': 458, u'team': 434, u'science fiction': 386, u'order': 309, u'media': 274, u'fi': 155, u'fully': 176, u'novel': 302, u'girls': 188, u'digital': 119, u'black': 51, u'pre': 343, u'model': 281, u'fast': 149, u'issues': 231, u'edinburgh': 127, u'available': 35, u'young': 498, u'fine art': 162, u'family': 147, u'hands': 201, u'ready': 372, u'dreams': 124, u'writing': 492, u'film': 158, u'simple': 400, u'taking': 429, u'science': 385, u'brings': 62, u'first book': 164, u'adult': 2, u'printing': 350, u'five': 165, u'write': 490, u'raspberry': 367, u'stage': 415, u'control': 96, u'man': 272, u'adults': 3, u'brand': 59, u'portable': 339, u'part': 314, u'know': 238, u'kids': 236, u'books': 57, u'trying': 454, u'theater': 439, u'photographer': 323, u'special': 413, u'personal': 319, u'short stories': 397, u'across': 0, u'fiction': 156, u'picture': 329, u'author': 33, u'long': 259, u'adventures': 5, u'people': 316, u'shows': 399, u'form': 168, u'real': 373, u'read': 369, u'run': 382, u'never': 296, u'tell': 436, u'designed': 114, u'arts': 30, u'audience': 31, u'interactive': 225, u'coloring': 84, u'end': 130, u'teach': 432, u'us': 460, u'software': 406, u'created': 100, u'easy': 126, u'inspired': 223, u'help': 205, u'look': 260, u'well': 475, u'features': 151, u'print': 347, u'london': 258, u'six': 401, u'release': 377, u'favorite': 150, u'publishing': 361, u'great': 196, u'device': 116, u'built': 65, u'light': 248, u'magic': 267, u'high school': 211, u'building': 64, u'new york': 298, u'even': 135, u'ever': 136, u'first': 163, u'build': 63, u'award winning': 37, u'south': 411, u'world': 487, u'wants': 469, u'past': 315, u'experience': 142, u'next': 299, u'robot': 380, u'high quality': 210, u'produce': 351, u'lives': 255, u'magazine': 266, u'journey': 234, u'images': 219, u'development': 115, u'turn': 455, u'traditional': 451, u'funny': 181, u'de': 109, u'voice': 466, u'android': 16, u'keep': 235, u'funding': 179, u'la': 239, u'studio': 421, u'join': 232, u'th': 438, u'child': 76, u'band': 40, u'looking': 261, u'low': 264, u'dream': 123, u'authors': 34, u'game': 183, u'page': 312, u'compatible': 91, u'time': 444, u'reading': 371, u'helps': 208, u'picture book': 330, u'characters': 74, u'games': 184, u'creating': 101, u'raising': 366, u'bluetooth': 52, u'friends': 171, u'summer': 423, u'debut': 111, u'right': 378, u'illustrations': 218, u'road': 379, u'free': 170, u'earth': 125, u'solar': 407, u'celebrating': 71, u'come': 86, u'together': 446, u'english': 131, u'want': 468, u'much': 285, u'photos': 327, u'technology': 435, u'songs': 408, u'men': 278, u'shakespeare': 394, u'tour': 450, u'needs': 295, u'literary': 252, u'days': 108, u'story': 418, u'explore': 143, u'future': 182, u'magical': 268, u'anything': 20, u'hope': 214, u'live': 254, u'series': 392, u'written': 493, u'edinburgh fringe': 128, u'language': 240, u'students': 420, u'anywhere': 21, u'york': 497, u'st': 414, u'many': 273, u'using': 463, u'bring': 60, u'podcast': 336, u'award': 36, u'ages': 8, u'inspire': 222, u'history': 212, u'launch': 242, u'raspberry pi': 368, u'stories': 417, u'mind': 279, u'human': 216, u'readers': 370, u'cd': 70, u'money': 283, u'recording': 376, u'please help': 335, u'charge': 75, u'publication': 358, u'power': 340, u'projects': 356, u'parents': 313, u'cost': 97, u'professional': 353, u'friendship': 172, u'business': 66, u'three': 443, u'diy': 121, u'published': 360, u'connect': 94, u'performance': 318, u'body': 54, u'collection': 82, u'water': 472, u'music': 286, u'years': 496, u'small': 402, u'self': 391, u'festival': 154, u'audio': 32, u'photo': 321, u'america': 14, u'start': 416, u'classic': 80, u'save': 383, u'international': 226, u'sound': 409, u'coming': 88, u'smart': 403, u'school': 384, u'interviews': 228, u'press': 346, u'photographic': 324, u'featuring': 152, u'without': 479, u'behind': 47, u'nyc': 303, u'back': 39, u'board': 53, u'local': 257, u'follow': 166, u'use': 462, u'annual': 17, u'natural': 291, u'boy': 58, u'others': 311, u'system': 425, u'winning': 477, u'day': 107, u'way': 473, u'war': 470, u'beautifully': 44, u'tales': 431, u'dog': 122, u'make': 269, u'must': 289, u'affordable': 6, u'public': 357, u'hard': 202, u'ultimate': 457, u'watch': 471, u'place': 331, u'gives': 190, u'journal': 233, u'student': 419, u'old': 304, u'arduino': 23, u'art': 26, u'good': 195, u'anyone': 19}\n",
      "\n",
      "{0: u'across', 1: u'action', 2: u'adult', 3: u'adults', 4: u'adventure', 5: u'adventures', 6: u'affordable', 7: u'age', 8: u'ages', 9: u'album', 10: u'allows', 11: u'along', 12: u'also', 13: u'amazing', 14: u'america', 15: u'american', 16: u'android', 17: u'annual', 18: u'anthology', 19: u'anyone', 20: u'anything', 21: u'anywhere', 22: u'app', 23: u'arduino', 24: u'around', 25: u'around world', 26: u'art', 27: u'art book', 28: u'artist', 29: u'artists', 30: u'arts', 31: u'audience', 32: u'audio', 33: u'author', 34: u'authors', 35: u'available', 36: u'award', 37: u'award winning', 38: u'awesome', 39: u'back', 40: u'band', 41: u'based', 42: u'battery', 43: u'beautiful', 44: u'beautifully', 45: u'beauty', 46: u'become', 47: u'behind', 48: u'best', 49: u'better', 50: u'big', 51: u'black', 52: u'bluetooth', 53: u'board', 54: u'body', 55: u'book', 56: u'book featuring', 57: u'books', 58: u'boy', 59: u'brand', 60: u'bring', 61: u'bringing', 62: u'brings', 63: u'build', 64: u'building', 65: u'built', 66: u'business', 67: u'calendar', 68: u'camera', 69: u'capture', 70: u'cd', 71: u'celebrating', 72: u'century', 73: u'change', 74: u'characters', 75: u'charge', 76: u'child', 77: u'children', 78: u'children book', 79: u'city', 80: u'classic', 81: u'coffee', 82: u'collection', 83: u'color', 84: u'coloring', 85: u'com', 86: u'come', 87: u'comedy', 88: u'coming', 89: u'community', 90: u'company', 91: u'compatible', 92: u'complete', 93: u'computer', 94: u'connect', 95: u'contemporary', 96: u'control', 97: u'cost', 98: u'cover', 99: u'create', 100: u'created', 101: u'creating', 102: u'creative', 103: u'culture', 104: u'dance', 105: u'dark', 106: u'data', 107: u'day', 108: u'days', 109: u'de', 110: u'death', 111: u'debut', 112: u'dedicated', 113: u'design', 114: u'designed', 115: u'development', 116: u'device', 117: u'devices', 118: u'different', 119: u'digital', 120: u'discover', 121: u'diy', 122: u'dog', 123: u'dream', 124: u'dreams', 125: u'earth', 126: u'easy', 127: u'edinburgh', 128: u'edinburgh fringe', 129: u'edition', 130: u'end', 131: u'english', 132: u'enjoy', 133: u'epic', 134: u'essays', 135: u'even', 136: u'ever', 137: u'every', 138: u'everyone', 139: u'everything', 140: u'exciting', 141: u'exhibition', 142: u'experience', 143: u'explore', 144: u'explores', 145: u'exploring', 146: u'eyes', 147: u'family', 148: u'fantasy', 149: u'fast', 150: u'favorite', 151: u'features', 152: u'featuring', 153: u'female', 154: u'festival', 155: u'fi', 156: u'fiction', 157: u'filled', 158: u'film', 159: u'finally', 160: u'find', 161: u'fine', 162: u'fine art', 163: u'first', 164: u'first book', 165: u'five', 166: u'follow', 167: u'food', 168: u'form', 169: u'four', 170: u'free', 171: u'friends', 172: u'friendship', 173: u'fringe', 174: u'full', 175: u'full color', 176: u'fully', 177: u'fun', 178: u'fund', 179: u'funding', 180: u'funds', 181: u'funny', 182: u'future', 183: u'game', 184: u'games', 185: u'generation', 186: u'get', 187: u'girl', 188: u'girls', 189: u'give', 190: u'gives', 191: u'go', 192: u'goal', 193: u'god', 194: u'going', 195: u'good', 196: u'great', 197: u'group', 198: u'growing', 199: u'guide', 200: u'hand', 201: u'hands', 202: u'hard', 203: u'hardcover', 204: u'heart', 205: u'help', 206: u'help fund', 207: u'help us', 208: u'helps', 209: u'high', 210: u'high quality', 211: u'high school', 212: u'history', 213: u'home', 214: u'hope', 215: u'horror', 216: u'human', 217: u'illustrated', 218: u'illustrations', 219: u'images', 220: u'imagination', 221: u'innovative', 222: u'inspire', 223: u'inspired', 224: u'inspiring', 225: u'interactive', 226: u'international', 227: u'internet', 228: u'interviews', 229: u'iphone', 230: u'issue', 231: u'issues', 232: u'join', 233: u'journal', 234: u'journey', 235: u'keep', 236: u'kids', 237: u'kit', 238: u'know', 239: u'la', 240: u'language', 241: u'last', 242: u'launch', 243: u'learn', 244: u'learning', 245: u'led', 246: u'let', 247: u'life', 248: u'light', 249: u'like', 250: u'limited', 251: u'limited edition', 252: u'literary', 253: u'little', 254: u'live', 255: u'lives', 256: u'living', 257: u'local', 258: u'london', 259: u'long', 260: u'look', 261: u'looking', 262: u'lost', 263: u'love', 264: u'low', 265: u'made', 266: u'magazine', 267: u'magic', 268: u'magical', 269: u'make', 270: u'makes', 271: u'making', 272: u'man', 273: u'many', 274: u'media', 275: u'meet', 276: u'meets', 277: u'memoir', 278: u'men', 279: u'mind', 280: u'mobile', 281: u'model', 282: u'modern', 283: u'money', 284: u'movement', 285: u'much', 286: u'music', 287: u'musical', 288: u'musicians', 289: u'must', 290: u'mystery', 291: u'natural', 292: u'nature', 293: u'need', 294: u'need help', 295: u'needs', 296: u'never', 297: u'new', 298: u'new york', 299: u'next', 300: u'night', 301: u'non', 302: u'novel', 303: u'nyc', 304: u'old', 305: u'one', 306: u'online', 307: u'open', 308: u'open source', 309: u'order', 310: u'original', 311: u'others', 312: u'page', 313: u'parents', 314: u'part', 315: u'past', 316: u'people', 317: u'perfect', 318: u'performance', 319: u'personal', 320: u'phone', 321: u'photo', 322: u'photo book', 323: u'photographer', 324: u'photographic', 325: u'photographs', 326: u'photography', 327: u'photos', 328: u'pi', 329: u'picture', 330: u'picture book', 331: u'place', 332: u'platform', 333: u'play', 334: u'please', 335: u'please help', 336: u'podcast', 337: u'poems', 338: u'poetry', 339: u'portable', 340: u'power', 341: u'powered', 342: u'powerful', 343: u'pre', 344: u'present', 345: u'presents', 346: u'press', 347: u'print', 348: u'printed', 349: u'printer', 350: u'printing', 351: u'produce', 352: u'production', 353: u'professional', 354: u'program', 355: u'project', 356: u'projects', 357: u'public', 358: u'publication', 359: u'publish', 360: u'published', 361: u'publishing', 362: u'put', 363: u'quality', 364: u'radio', 365: u'raise', 366: u'raising', 367: u'raspberry', 368: u'raspberry pi', 369: u'read', 370: u'readers', 371: u'reading', 372: u'ready', 373: u'real', 374: u'reality', 375: u'record', 376: u'recording', 377: u'release', 378: u'right', 379: u'road', 380: u'robot', 381: u'rock', 382: u'run', 383: u'save', 384: u'school', 385: u'science', 386: u'science fiction', 387: u'search', 388: u'season', 389: u'second', 390: u'see', 391: u'self', 392: u'series', 393: u'set', 394: u'shakespeare', 395: u'share', 396: u'short', 397: u'short stories', 398: u'show', 399: u'shows', 400: u'simple', 401: u'six', 402: u'small', 403: u'smart', 404: u'smartphone', 405: u'social', 406: u'software', 407: u'solar', 408: u'songs', 409: u'sound', 410: u'source', 411: u'south', 412: u'space', 413: u'special', 414: u'st', 415: u'stage', 416: u'start', 417: u'stories', 418: u'story', 419: u'student', 420: u'students', 421: u'studio', 422: u'style', 423: u'summer', 424: u'support', 425: u'system', 426: u'table', 427: u'take', 428: u'takes', 429: u'taking', 430: u'tale', 431: u'tales', 432: u'teach', 433: u'teaches', 434: u'team', 435: u'technology', 436: u'tell', 437: u'tells', 438: u'th', 439: u'theater', 440: u'theatre', 441: u'things', 442: u'think', 443: u'three', 444: u'time', 445: u'today', 446: u'together', 447: u'told', 448: u'tool', 449: u'touch', 450: u'tour', 451: u'traditional', 452: u'travel', 453: u'true', 454: u'trying', 455: u'turn', 456: u'two', 457: u'ultimate', 458: u'unique', 459: u'urban', 460: u'us', 461: u'usb', 462: u'use', 463: u'using', 464: u'video', 465: u'visual', 466: u'voice', 467: u'volume', 468: u'want', 469: u'wants', 470: u'war', 471: u'watch', 472: u'water', 473: u'way', 474: u'web', 475: u'well', 476: u'west', 477: u'winning', 478: u'wireless', 479: u'without', 480: u'woman', 481: u'women', 482: u'word', 483: u'words', 484: u'work', 485: u'working', 486: u'works', 487: u'world', 488: u'world first', 489: u'would', 490: u'write', 491: u'writers', 492: u'writing', 493: u'written', 494: u'year', 495: u'year old', 496: u'years', 497: u'york', 498: u'young', 499: u'zine'}\n",
      "\n",
      "Top 20 words for failed campaigns: \n",
      "website\n",
      "help\n",
      "new\n",
      "online\n",
      "people\n",
      "world\n",
      "social\n",
      "platform\n",
      "make\n",
      "life\n",
      "create\n",
      "want\n",
      "one\n",
      "site\n",
      "get\n",
      "com\n",
      "first\n",
      "community\n",
      "find\n",
      "play\n",
      "\n",
      "Top 20 words for successful campaigns: \n",
      "book\n",
      "new\n",
      "help\n",
      "world\n",
      "story\n",
      "first\n",
      "life\n",
      "children\n",
      "one\n",
      "art\n",
      "music\n",
      "stories\n",
      "love\n",
      "us\n",
      "novel\n",
      "make\n",
      "project\n",
      "time\n",
      "people\n",
      "get\n"
     ]
    }
   ],
   "source": [
    "# Reverse dictionary for Fail, and print top 10 words.\n",
    "print fail_tf.vocabulary_\n",
    "new_tf_fail = {v: k for k, v in fail_tf.vocabulary_.iteritems()}\n",
    "print '\\n', new_tf_fail\n",
    "\n",
    "\n",
    "# Reverse dictionary for Success, and print top 10 words.\n",
    "print success_tf.vocabulary_\n",
    "new_tf_success = {v: k for k, v in success_tf.vocabulary_.iteritems()}\n",
    "print '\\n', new_tf_success\n",
    "\n",
    "\n",
    "print '\\nTop 20 words for failed campaigns: '\n",
    "fail_words = []\n",
    "for index in top_ten_tf_fail.index[0:20]:\n",
    "    print new_tf_fail[index]\n",
    "    fail_words.append(new_tf_fail[index])\n",
    "    \n",
    "print '\\nTop 20 words for successful campaigns: '\n",
    "success_words = []\n",
    "for index in top_ten_tf_success.index[0:20]:\n",
    "    print new_tf_success[index]\n",
    "    success_words.append(new_tf_success[index])"
   ]
  },
  {
   "cell_type": "code",
   "execution_count": 252,
   "metadata": {
    "collapsed": false
   },
   "outputs": [
    {
     "name": "stdout",
     "output_type": "stream",
     "text": [
      "121.925175987\n",
      "118.468475187\n",
      "106.918045491\n",
      "98.460309613\n",
      "92.1978876336\n",
      "91.6282248154\n",
      "88.9618428571\n",
      "76.1399319464\n",
      "74.280630191\n",
      "70.9830852637\n",
      "70.3712361629\n",
      "69.8757818774\n",
      "68.1925931562\n",
      "67.2515716739\n",
      "67.0152757927\n",
      "66.1241885523\n",
      "65.3830234586\n",
      "65.0185638036\n",
      "64.4013421858\n",
      "64.291432595\n"
     ]
    }
   ],
   "source": [
    "for value in top_ten_tf_fail.head(20):\n",
    "    print value"
   ]
  },
  {
   "cell_type": "code",
   "execution_count": 253,
   "metadata": {
    "collapsed": false
   },
   "outputs": [
    {
     "name": "stdout",
     "output_type": "stream",
     "text": [
      "756.20876664\n",
      "458.797596164\n",
      "445.948779394\n",
      "381.398791996\n",
      "348.908268766\n",
      "325.122689748\n",
      "289.991846913\n",
      "289.952590525\n",
      "289.911820168\n",
      "280.148523615\n",
      "243.49546176\n",
      "237.961274005\n",
      "213.137740766\n",
      "212.095107472\n",
      "208.85845962\n",
      "201.417217883\n",
      "200.624505082\n",
      "192.725743876\n",
      "189.255978995\n",
      "189.014211222\n"
     ]
    }
   ],
   "source": [
    "for value in top_ten_tf_success.head(20):\n",
    "    print value"
   ]
  },
  {
   "cell_type": "code",
   "execution_count": null,
   "metadata": {
    "collapsed": true
   },
   "outputs": [],
   "source": []
  },
  {
   "cell_type": "code",
   "execution_count": 250,
   "metadata": {
    "collapsed": false
   },
   "outputs": [
    {
     "name": "stdout",
     "output_type": "stream",
     "text": [
      "[u'com' u'community' u'create' u'find' u'first' u'get' u'help' u'life'\n",
      " u'make' u'new' u'one' u'online' u'people' u'platform' u'play' u'site'\n",
      " u'social' u'want' u'website' u'world']\n",
      "[u'art' u'book' u'children' u'first' u'get' u'help' u'life' u'love' u'make'\n",
      " u'music' u'new' u'novel' u'one' u'people' u'project' u'stories' u'story'\n",
      " u'time' u'us' u'world']\n",
      "help help\n",
      "new new\n",
      "people people\n",
      "world world\n",
      "make make\n",
      "life life\n",
      "one one\n",
      "get get\n",
      "first first\n",
      "9\n"
     ]
    }
   ],
   "source": [
    "print np.sort(fail_words)\n",
    "print np.sort(success_words)\n",
    "repeated = 0\n",
    "all_words = []\n",
    "for fail in fail_words:\n",
    "    for success in success_words:\n",
    "        if fail == success:\n",
    "            print fail, success\n",
    "            repeated += 1\n",
    "print repeated"
   ]
  },
  {
   "cell_type": "code",
   "execution_count": null,
   "metadata": {
    "collapsed": true
   },
   "outputs": [],
   "source": []
  },
  {
   "cell_type": "code",
   "execution_count": null,
   "metadata": {
    "collapsed": true
   },
   "outputs": [],
   "source": []
  },
  {
   "cell_type": "code",
   "execution_count": null,
   "metadata": {
    "collapsed": true
   },
   "outputs": [],
   "source": []
  },
  {
   "cell_type": "code",
   "execution_count": null,
   "metadata": {
    "collapsed": true
   },
   "outputs": [],
   "source": []
  },
  {
   "cell_type": "code",
   "execution_count": null,
   "metadata": {
    "collapsed": true
   },
   "outputs": [],
   "source": []
  },
  {
   "cell_type": "code",
   "execution_count": 209,
   "metadata": {
    "collapsed": false
   },
   "outputs": [
    {
     "name": "stdout",
     "output_type": "stream",
     "text": [
      "Creating the bag of words for train data...\n",
      "\n",
      "(17276, 500)\n",
      "\n",
      "\n",
      "(4747, 500)\n"
     ]
    }
   ],
   "source": [
    "# Bag of Words using count.\n",
    "\n",
    "print \"Creating the bag of words for train data...\\n\"\n",
    "success_vectorizer = CountVectorizer(analyzer='word', \\\n",
    "                            tokenizer=None, \\\n",
    "                            preprocessor=None, \\\n",
    "                            stop_words=None, \\\n",
    "                            max_features=500)\n",
    "\n",
    "fail_vectorizer = CountVectorizer(analyzer='word', \\\n",
    "                            tokenizer=None, \\\n",
    "                            preprocessor=None, \\\n",
    "                            stop_words=None, \\\n",
    "                            max_features=500)\n",
    "\n",
    "success_bag_of_words = success_vectorizer.fit_transform(success_blurbs)\n",
    "# print success_vectorizer.vocabulary_\n",
    "print success_bag_of_words.shape\n",
    "print '\\n'\n",
    "\n",
    "fail_bag_of_words = fail_vectorizer.fit_transform(fail_blurbs)\n",
    "# print fail_vectorizer.vocabulary_\n",
    "print fail_bag_of_words.shape"
   ]
  },
  {
   "cell_type": "code",
   "execution_count": 210,
   "metadata": {
    "collapsed": false
   },
   "outputs": [
    {
     "name": "stdout",
     "output_type": "stream",
     "text": [
      "<class 'scipy.sparse.csr.csr_matrix'>\n",
      "<class 'pandas.core.frame.DataFrame'>\n"
     ]
    }
   ],
   "source": [
    "# Convert Scipy sparse matrix to Pandas dataframe\n",
    "\n",
    "# For fail.\n",
    "print type(fail_bag_of_words)\n",
    "df_fail = pd.DataFrame([ pd.Series(fail_bag_of_words[i].toarray().ravel()) \\\n",
    "                              for i in np.arange(fail_bag_of_words.shape[0]) ])\n",
    "print type(df_fail)\n",
    "\n",
    "# For success.\n",
    "df_success = pd.DataFrame([ pd.Series(success_bag_of_words[i].toarray().ravel()) \\\n",
    "                              for i in np.arange(success_bag_of_words.shape[0]) ])"
   ]
  },
  {
   "cell_type": "code",
   "execution_count": 211,
   "metadata": {
    "collapsed": false
   },
   "outputs": [
    {
     "name": "stdout",
     "output_type": "stream",
     "text": [
      "Int64Index([193, 478, 286, 294, 398, 306, 488, 320, 258, 87], dtype='int64')\n",
      "Int64Index([56, 206, 297, 488, 164, 415, 27, 78, 304, 249], dtype='int64')\n"
     ]
    }
   ],
   "source": [
    "# print df_temp.sum(axis=0)\n",
    "top_ten_fail = df_fail.sum(axis=0).sort_values(ascending=False)\n",
    "print top_ten_fail.index[0:10]\n",
    "\n",
    "top_ten_success = df_success.sum(axis=0).sort_values(ascending=False)\n",
    "print top_ten_success.index[0:10]"
   ]
  },
  {
   "cell_type": "code",
   "execution_count": 213,
   "metadata": {
    "collapsed": false
   },
   "outputs": [
    {
     "name": "stdout",
     "output_type": "stream",
     "text": [
      "{u'bringing': 48, u'kids': 222, u'music': 279, u'care': 57, u'brings': 49, u'want': 472, u'travel': 447, u'gaming': 171, u'skills': 394, u'series': 379, u'perform': 308, u'service': 380, u'worlds': 489, u'project': 341, u'person': 311, u'best': 39, u'much': 278, u'pro': 332, u'location': 246, u'life': 235, u'child': 62, u'things': 435, u'big': 41, u'projects': 342, u'online': 294, u'possible': 325, u'unique': 455, u'right': 365, u'old': 292, u'people': 306, u'easy': 121, u'creative': 90, u'support': 420, u'offer': 290, u'talents': 425, u'time': 437, u'connecting': 78, u'team': 427, u'current': 92, u'love': 252, u'working': 486, u'data': 97, u'st': 407, u'years': 497, u'course': 86, u'internet': 215, u'training': 446, u'one': 293, u'vote': 471, u'custom': 93, u'open': 295, u'city': 65, u'future': 167, u'take': 422, u'going': 183, u'jobs': 218, u'many': 264, u'wants': 473, u'photos': 317, u'technology': 428, u'costs': 84, u'summer': 419, u'actors': 5, u'around': 25, u'dark': 96, u'world': 488, u'power': 327, u'favorite': 148, u'act': 3, u'complete': 76, u'original': 298, u'tv': 451, u'th': 431, u'small': 395, u'full': 162, u'social': 398, u'via': 464, u'company': 75, u'learn': 229, u'beautiful': 37, u'information': 209, u'trade': 445, u'always': 14, u'imagine': 204, u'show': 389, u'sell': 378, u'self': 377, u'also': 12, u'play': 321, u'plan': 319, u'set': 382, u'see': 375, u'available': 32, u'last': 228, u'community': 73, u'fund': 164, u'raise': 353, u'read': 355, u'wearable': 476, u'parents': 301, u'individuals': 207, u'dating': 99, u'anything': 19, u'line': 239, u'us': 457, u'un': 454, u'uk': 453, u'medical': 269, u'chat': 61, u'young': 498, u'resources': 360, u'magic': 257, u'video': 465, u'let': 232, u'great': 185, u'makes': 259, u'tools': 442, u'exciting': 141, u'next': 288, u'high': 196, u'educational': 123, u'comedy': 70, u'allow': 10, u'perfect': 307, u'books': 45, u'could': 85, u'put': 349, u'festival': 152, u'system': 421, u'interests': 213, u'worldwide': 490, u'device': 110, u'bring': 47, u'trying': 449, u'hope': 199, u'etc': 133, u'digital': 112, u'audio': 31, u'less': 231, u'web': 477, u'become': 38, u'passion': 304, u'stage': 408, u'lifestyle': 236, u'chance': 59, u'secure': 374, u'work': 485, u'activities': 4, u'woman': 483, u'provide': 344, u'order': 297, u'innovative': 210, u'production': 335, u'safe': 368, u'band': 35, u'network': 283, u'created': 88, u'consumers': 80, u'de': 101, u'haunted': 190, u'com': 68, u'save': 370, u'aim': 8, u'voice': 470, u'goals': 182, u'musical': 280, u'designers': 105, u'post': 326, u'way': 475, u'true': 448, u'reality': 357, u'together': 440, u'dance': 95, u'global': 179, u'revolution': 363, u'discover': 113, u'cost': 83, u'change': 60, u'market': 265, u'live': 242, u'car': 56, u'dedicated': 102, u'write': 492, u'product': 334, u'produce': 333, u'non': 289, u'en': 124, u'year': 496, u'et': 132, u'happen': 189, u'album': 9, u'space': 403, u'looking': 250, u'shows': 391, u'professionals': 338, u'price': 330, u'america': 16, u'professional': 337, u'learning': 230, u'season': 373, u'developing': 108, u'develop': 106, u'media': 268, u'theater': 432, u'real': 356, u'using': 463, u'business': 53, u'journey': 220, u'area': 24, u'start': 409, u'low': 254, u'podcast': 324, u'building': 51, u'inspired': 211, u'family': 144, u'site': 393, u'history': 197, u'dream': 117, u'help': 193, u'food': 157, u'event': 135, u'safety': 369, u'revolutionary': 364, u'american': 17, u'events': 136, u'mobile': 274, u'culture': 91, u'lives': 243, u'look': 249, u'smart': 396, u'guide': 187, u'used': 459, u'uses': 462, u'user': 460, u'game': 168, u'run': 366, u'within': 481, u'adults': 6, u'application': 22, u'go': 180, u'friendly': 159, u'facebook': 143, u'plays': 322, u'products': 336, u'manage': 262, u'cloud': 66, u'meet': 270, u'control': 82, u'software': 399, u'hands': 188, u'university': 456, u'special': 404, u'entertainment': 129, u'times': 438, u'designed': 104, u'powerful': 328, u'art': 26, u'quality': 350, u'providing': 346, u'need': 281, u'able': 0, u'watch': 474, u'based': 36, u'written': 494, u'party': 303, u'well': 480, u'lost': 251, u'home': 198, u'artists': 28, u'networking': 284, u'marketplace': 266, u'friends': 160, u'connects': 79, u'companies': 74, u'solution': 400, u'even': 134, u'new': 286, u'ever': 137, u'join': 219, u'never': 285, u'tell': 429, u'give': 176, u'amazing': 15, u'purchase': 348, u'communities': 72, u'personal': 312, u'better': 40, u'content': 81, u'features': 149, u'database': 98, u'modern': 275, u'mind': 273, u'dog': 114, u'stop': 411, u'website': 478, u'make': 258, u'opportunity': 296, u'human': 201, u'dreams': 118, u'performing': 310, u'www': 495, u'theatrical': 434, u'shakespeare': 383, u'magazine': 256, u'daily': 94, u'smartphone': 397, u'international': 214, u'visit': 469, u'sharing': 385, u'reviews': 362, u'making': 260, u'may': 267, u'artist': 27, u'living': 244, u'gamers': 169, u'language': 227, u'think': 436, u'first': 155, u'fast': 147, u'anyone': 18, u'performance': 309, u'theatre': 433, u'track': 444, u'shop': 386, u'awareness': 33, u'get': 173, u'experience': 142, u'across': 2, u'affordable': 7, u'arts': 29, u'shopping': 387, u'different': 111, u'pay': 305, u'running': 367, u'audience': 30, u'film': 153, u'students': 416, u'important': 205, u'starting': 410, u'children': 63, u'public': 347, u'movement': 277, u'search': 372, u'two': 452, u'share': 384, u'needs': 282, u'coming': 71, u'easily': 120, u'everyone': 139, u'house': 200, u'idea': 202, u'funding': 165, u'members': 271, u'done': 115, u'interactive': 212, u'built': 52, u'build': 50, u'tool': 441, u'services': 381, u'find': 154, u'money': 276, u'please': 323, u'fans': 145, u'simple': 392, u'create': 87, u'fun': 163, u'development': 109, u'alternative': 13, u'source': 402, u'back': 34, u'pet': 313, u'drama': 116, u'helps': 195, u'giving': 178, u'access': 1, u'anywhere': 20, u'body': 43, u'others': 299, u'talent': 424, u'private': 331, u'industry': 208, u'fringe': 161, u'la': 226, u'day': 100, u'loved': 253, u'text': 430, u'knowledge': 225, u'photography': 316, u'taking': 423, u'videos': 466, u'center': 58, u'like': 238, u'success': 418, u'works': 487, u'buy': 55, u'brand': 46, u'virtual': 468, u'every': 138, u'school': 371, u'enjoy': 128, u'teachers': 426, u'would': 491, u'keep': 221, u'end': 125, u'london': 247, u'writing': 493, u'fitness': 156, u'group': 186, u'free': 158, u'management': 263, u'top': 443, u'fashion': 146, u'radio': 352, u'photo': 315, u'news': 287, u'improve': 206, u'games': 170, u'gift': 175, u'specific': 405, u'everything': 140, u'christmas': 64, u'environment': 131, u'little': 241, u'level': 234, u'today': 439, u'platform': 320, u'offers': 291, u'profit': 339, u'turn': 450, u'place': 318, u'easier': 119, u'gives': 177, u'rent': 359, u'ideas': 203, u'college': 67, u'review': 361, u'come': 69, u'featuring': 150, u'engine': 126, u'good': 184, u'seeking': 376, u'without': 482, u'blog': 42, u'lets': 233, u'provides': 345, u'promote': 343, u'connect': 77, u'websites': 479, u'program': 340, u'list': 240, u'design': 103, u'allows': 11, u'owners': 300, u'stories': 413, u'goal': 181, u'short': 388, u'developed': 107, u'style': 417, u'man': 261, u'generation': 172, u'health': 191, u'feel': 151, u'story': 414, u'store': 412, u'kind': 223, u'part': 302, u'youth': 499, u'use': 458, u'creating': 89, u'know': 224, u'questions': 351, u'phone': 314, u'entrepreneurs': 130, u'sports': 406, u'long': 248, u'raising': 354, u'users': 461, u'helping': 194, u'issues': 216, u'businesses': 54, u'showcase': 390, u'heart': 192, u'app': 21, u'women': 484, u'something': 401, u'men': 272, u'light': 237, u'local': 245, u'view': 467, u'job': 217, u'education': 122, u'premiere': 329, u'student': 415, u'english': 127, u'getting': 174, u'apps': 23, u'funds': 166, u'made': 255, u'record': 358, u'book': 44}\n",
      "\n",
      "{0: u'able', 1: u'access', 2: u'across', 3: u'act', 4: u'activities', 5: u'actors', 6: u'adults', 7: u'affordable', 8: u'aim', 9: u'album', 10: u'allow', 11: u'allows', 12: u'also', 13: u'alternative', 14: u'always', 15: u'amazing', 16: u'america', 17: u'american', 18: u'anyone', 19: u'anything', 20: u'anywhere', 21: u'app', 22: u'application', 23: u'apps', 24: u'area', 25: u'around', 26: u'art', 27: u'artist', 28: u'artists', 29: u'arts', 30: u'audience', 31: u'audio', 32: u'available', 33: u'awareness', 34: u'back', 35: u'band', 36: u'based', 37: u'beautiful', 38: u'become', 39: u'best', 40: u'better', 41: u'big', 42: u'blog', 43: u'body', 44: u'book', 45: u'books', 46: u'brand', 47: u'bring', 48: u'bringing', 49: u'brings', 50: u'build', 51: u'building', 52: u'built', 53: u'business', 54: u'businesses', 55: u'buy', 56: u'car', 57: u'care', 58: u'center', 59: u'chance', 60: u'change', 61: u'chat', 62: u'child', 63: u'children', 64: u'christmas', 65: u'city', 66: u'cloud', 67: u'college', 68: u'com', 69: u'come', 70: u'comedy', 71: u'coming', 72: u'communities', 73: u'community', 74: u'companies', 75: u'company', 76: u'complete', 77: u'connect', 78: u'connecting', 79: u'connects', 80: u'consumers', 81: u'content', 82: u'control', 83: u'cost', 84: u'costs', 85: u'could', 86: u'course', 87: u'create', 88: u'created', 89: u'creating', 90: u'creative', 91: u'culture', 92: u'current', 93: u'custom', 94: u'daily', 95: u'dance', 96: u'dark', 97: u'data', 98: u'database', 99: u'dating', 100: u'day', 101: u'de', 102: u'dedicated', 103: u'design', 104: u'designed', 105: u'designers', 106: u'develop', 107: u'developed', 108: u'developing', 109: u'development', 110: u'device', 111: u'different', 112: u'digital', 113: u'discover', 114: u'dog', 115: u'done', 116: u'drama', 117: u'dream', 118: u'dreams', 119: u'easier', 120: u'easily', 121: u'easy', 122: u'education', 123: u'educational', 124: u'en', 125: u'end', 126: u'engine', 127: u'english', 128: u'enjoy', 129: u'entertainment', 130: u'entrepreneurs', 131: u'environment', 132: u'et', 133: u'etc', 134: u'even', 135: u'event', 136: u'events', 137: u'ever', 138: u'every', 139: u'everyone', 140: u'everything', 141: u'exciting', 142: u'experience', 143: u'facebook', 144: u'family', 145: u'fans', 146: u'fashion', 147: u'fast', 148: u'favorite', 149: u'features', 150: u'featuring', 151: u'feel', 152: u'festival', 153: u'film', 154: u'find', 155: u'first', 156: u'fitness', 157: u'food', 158: u'free', 159: u'friendly', 160: u'friends', 161: u'fringe', 162: u'full', 163: u'fun', 164: u'fund', 165: u'funding', 166: u'funds', 167: u'future', 168: u'game', 169: u'gamers', 170: u'games', 171: u'gaming', 172: u'generation', 173: u'get', 174: u'getting', 175: u'gift', 176: u'give', 177: u'gives', 178: u'giving', 179: u'global', 180: u'go', 181: u'goal', 182: u'goals', 183: u'going', 184: u'good', 185: u'great', 186: u'group', 187: u'guide', 188: u'hands', 189: u'happen', 190: u'haunted', 191: u'health', 192: u'heart', 193: u'help', 194: u'helping', 195: u'helps', 196: u'high', 197: u'history', 198: u'home', 199: u'hope', 200: u'house', 201: u'human', 202: u'idea', 203: u'ideas', 204: u'imagine', 205: u'important', 206: u'improve', 207: u'individuals', 208: u'industry', 209: u'information', 210: u'innovative', 211: u'inspired', 212: u'interactive', 213: u'interests', 214: u'international', 215: u'internet', 216: u'issues', 217: u'job', 218: u'jobs', 219: u'join', 220: u'journey', 221: u'keep', 222: u'kids', 223: u'kind', 224: u'know', 225: u'knowledge', 226: u'la', 227: u'language', 228: u'last', 229: u'learn', 230: u'learning', 231: u'less', 232: u'let', 233: u'lets', 234: u'level', 235: u'life', 236: u'lifestyle', 237: u'light', 238: u'like', 239: u'line', 240: u'list', 241: u'little', 242: u'live', 243: u'lives', 244: u'living', 245: u'local', 246: u'location', 247: u'london', 248: u'long', 249: u'look', 250: u'looking', 251: u'lost', 252: u'love', 253: u'loved', 254: u'low', 255: u'made', 256: u'magazine', 257: u'magic', 258: u'make', 259: u'makes', 260: u'making', 261: u'man', 262: u'manage', 263: u'management', 264: u'many', 265: u'market', 266: u'marketplace', 267: u'may', 268: u'media', 269: u'medical', 270: u'meet', 271: u'members', 272: u'men', 273: u'mind', 274: u'mobile', 275: u'modern', 276: u'money', 277: u'movement', 278: u'much', 279: u'music', 280: u'musical', 281: u'need', 282: u'needs', 283: u'network', 284: u'networking', 285: u'never', 286: u'new', 287: u'news', 288: u'next', 289: u'non', 290: u'offer', 291: u'offers', 292: u'old', 293: u'one', 294: u'online', 295: u'open', 296: u'opportunity', 297: u'order', 298: u'original', 299: u'others', 300: u'owners', 301: u'parents', 302: u'part', 303: u'party', 304: u'passion', 305: u'pay', 306: u'people', 307: u'perfect', 308: u'perform', 309: u'performance', 310: u'performing', 311: u'person', 312: u'personal', 313: u'pet', 314: u'phone', 315: u'photo', 316: u'photography', 317: u'photos', 318: u'place', 319: u'plan', 320: u'platform', 321: u'play', 322: u'plays', 323: u'please', 324: u'podcast', 325: u'possible', 326: u'post', 327: u'power', 328: u'powerful', 329: u'premiere', 330: u'price', 331: u'private', 332: u'pro', 333: u'produce', 334: u'product', 335: u'production', 336: u'products', 337: u'professional', 338: u'professionals', 339: u'profit', 340: u'program', 341: u'project', 342: u'projects', 343: u'promote', 344: u'provide', 345: u'provides', 346: u'providing', 347: u'public', 348: u'purchase', 349: u'put', 350: u'quality', 351: u'questions', 352: u'radio', 353: u'raise', 354: u'raising', 355: u'read', 356: u'real', 357: u'reality', 358: u'record', 359: u'rent', 360: u'resources', 361: u'review', 362: u'reviews', 363: u'revolution', 364: u'revolutionary', 365: u'right', 366: u'run', 367: u'running', 368: u'safe', 369: u'safety', 370: u'save', 371: u'school', 372: u'search', 373: u'season', 374: u'secure', 375: u'see', 376: u'seeking', 377: u'self', 378: u'sell', 379: u'series', 380: u'service', 381: u'services', 382: u'set', 383: u'shakespeare', 384: u'share', 385: u'sharing', 386: u'shop', 387: u'shopping', 388: u'short', 389: u'show', 390: u'showcase', 391: u'shows', 392: u'simple', 393: u'site', 394: u'skills', 395: u'small', 396: u'smart', 397: u'smartphone', 398: u'social', 399: u'software', 400: u'solution', 401: u'something', 402: u'source', 403: u'space', 404: u'special', 405: u'specific', 406: u'sports', 407: u'st', 408: u'stage', 409: u'start', 410: u'starting', 411: u'stop', 412: u'store', 413: u'stories', 414: u'story', 415: u'student', 416: u'students', 417: u'style', 418: u'success', 419: u'summer', 420: u'support', 421: u'system', 422: u'take', 423: u'taking', 424: u'talent', 425: u'talents', 426: u'teachers', 427: u'team', 428: u'technology', 429: u'tell', 430: u'text', 431: u'th', 432: u'theater', 433: u'theatre', 434: u'theatrical', 435: u'things', 436: u'think', 437: u'time', 438: u'times', 439: u'today', 440: u'together', 441: u'tool', 442: u'tools', 443: u'top', 444: u'track', 445: u'trade', 446: u'training', 447: u'travel', 448: u'true', 449: u'trying', 450: u'turn', 451: u'tv', 452: u'two', 453: u'uk', 454: u'un', 455: u'unique', 456: u'university', 457: u'us', 458: u'use', 459: u'used', 460: u'user', 461: u'users', 462: u'uses', 463: u'using', 464: u'via', 465: u'video', 466: u'videos', 467: u'view', 468: u'virtual', 469: u'visit', 470: u'voice', 471: u'vote', 472: u'want', 473: u'wants', 474: u'watch', 475: u'way', 476: u'wearable', 477: u'web', 478: u'website', 479: u'websites', 480: u'well', 481: u'within', 482: u'without', 483: u'woman', 484: u'women', 485: u'work', 486: u'working', 487: u'works', 488: u'world', 489: u'worlds', 490: u'worldwide', 491: u'would', 492: u'write', 493: u'writing', 494: u'written', 495: u'www', 496: u'year', 497: u'years', 498: u'young', 499: u'youth'}\n",
      "{u'four': 169, u'looking': 262, u'bringing': 61, u'kids': 236, u'music': 287, u'want': 468, u'travel': 450, u'series': 389, u'friend': 171, u'memoir': 278, u'nature': 293, u'much': 286, u'devices': 119, u'working': 486, u'three': 441, u'awesome': 38, u'edinburgh': 129, u'st': 411, u'years': 496, u'internet': 225, u'poems': 335, u'one': 304, u'open': 306, u'city': 80, u'printer': 347, u'printed': 346, u'gives': 190, u'wants': 469, u'photos': 326, u'technology': 433, u'around': 26, u'world': 488, u'th': 436, u'large': 241, u'small': 399, u'past': 315, u'full': 175, u'experience': 144, u'company': 91, u'learn': 244, u'musicians': 289, u'paper': 312, u'research': 375, u'essays': 136, u'self': 388, u'also': 13, u'available': 36, u'needs': 295, u'last': 242, u'parents': 313, u'us': 459, u'young': 498, u'magic': 268, u'video': 464, u'makes': 271, u'exciting': 142, u'next': 298, u'comedy': 88, u'robot': 378, u'perfect': 317, u'books': 57, u'put': 360, u'festival': 156, u'system': 423, u'audio': 33, u'web': 474, u'become': 46, u'award': 37, u'innovative': 219, u'production': 350, u'coffee': 82, u'band': 40, u'created': 102, u'hand': 200, u'musical': 288, u'board': 54, u'night': 299, u'way': 473, u'war': 470, u'true': 452, u'songs': 405, u'cost': 99, u'illustrations': 216, u'inspiring': 222, u'teaches': 431, u'heart': 205, u'produce': 349, u'non': 300, u'year': 495, u'fi': 157, u'america': 15, u'help': 206, u'death': 112, u'start': 413, u'low': 265, u'podcast': 334, u'horror': 212, u'inspired': 221, u'family': 149, u'takes': 426, u'history': 209, u'dream': 125, u'publish': 357, u'issue': 230, u'launch': 243, u'american': 16, u'authors': 35, u'culture': 105, u'lives': 256, u'look': 261, u'smart': 400, u'guide': 199, u'ready': 369, u'friends': 172, u'game': 183, u'computer': 94, u'anthology': 19, u'printing': 348, u'camera': 68, u'meet': 276, u'hands': 201, u'bluetooth': 53, u'explores': 146, u'special': 410, u'natural': 292, u'capture': 69, u'well': 476, u'lost': 263, u'page': 310, u'home': 210, u'compatible': 92, u'stories': 414, u'limited': 252, u'men': 279, u'adult': 3, u'amazing': 14, u'personal': 319, u'tales': 429, u'features': 153, u'modern': 283, u'tells': 435, u'dog': 124, u'website': 475, u'kit': 237, u'human': 213, u'dreams': 126, u'shakespeare': 391, u'journey': 234, u'smartphone': 401, u'international': 224, u'filled': 159, u'boy': 58, u'making': 272, u'writers': 492, u'artist': 28, u'rock': 379, u'think': 440, u'first': 164, u'little': 254, u'anyone': 20, u'eyes': 148, u'performance': 318, u'ultimate': 456, u'show': 395, u'get': 186, u'across': 0, u'tour': 448, u'sound': 406, u'money': 284, u'images': 217, u'west': 477, u'imagination': 218, u'portable': 337, u'public': 355, u'table': 424, u'coming': 89, u'mystery': 291, u'hard': 202, u'print': 345, u'recording': 373, u'urban': 458, u'tale': 428, u'simple': 397, u'century': 73, u'development': 117, u'source': 407, u'epic': 135, u'literary': 253, u'helps': 207, u'control': 97, u'share': 392, u'poetry': 336, u'season': 385, u'taking': 427, u'add': 2, u'like': 251, u'female': 155, u'school': 382, u'would': 490, u'keep': 235, u'ages': 9, u'london': 259, u'powerful': 340, u'brings': 62, u'days': 110, u'fantasy': 150, u'radio': 362, u'watch': 471, u'games': 184, u'everything': 141, u'wireless': 479, u'picture': 328, u'cool': 98, u'based': 41, u'iphone': 228, u'today': 443, u'platform': 331, u'turn': 454, u'ideas': 214, u'many': 274, u'featuring': 154, u'case': 70, u'magical': 269, u'without': 480, u'lets': 248, u'novel': 301, u'goal': 192, u'adventure': 5, u'short': 394, u'friendship': 173, u'story': 415, u'interviews': 226, u'traditional': 449, u'creating': 103, u'dark': 107, u'phone': 320, u'long': 260, u'raising': 364, u'explore': 145, u'app': 23, u'six': 398, u'light': 250, u'artists': 29, u'publication': 356, u'local': 258, u'second': 386, u'present': 342, u'student': 416, u'press': 344, u'support': 422, u'volume': 467, u'made': 266, u'presents': 343, u'beauty': 45, u'debut': 113, u'exploring': 147, u'even': 137, u'place': 330, u'release': 374, u'best': 48, u'adventures': 6, u'life': 249, u'child': 77, u'project': 353, u'things': 439, u'easy': 128, u'unique': 457, u'right': 376, u'old': 303, u'people': 316, u'creative': 104, u'team': 432, u'love': 264, u'visual': 465, u'data': 108, u'quality': 361, u'photographic': 323, u'future': 182, u'take': 425, u'pages': 311, u'going': 194, u'summer': 420, u'color': 84, u'power': 338, u'favorite': 152, u'complete': 93, u'original': 308, u'action': 1, u'science': 383, u'beautiful': 43, u'girls': 188, u'play': 332, u'cover': 100, u'set': 390, u'see': 387, u'community': 90, u'publishing': 359, u'fund': 178, u'beautifully': 44, u'funny': 181, u'projects': 354, u'anything': 21, u'illustrated': 215, u'led': 246, u'let': 247, u'great': 196, u'high': 208, u'earth': 127, u'hope': 211, u'edition': 130, u'author': 34, u'cd': 71, u'powered': 339, u'social': 402, u'five': 165, u'stage': 412, u'told': 445, u'charge': 76, u'program': 352, u'come': 87, u'work': 485, u'woman': 481, u'make': 270, u'meets': 277, u'magazine': 267, u'de': 111, u'com': 86, u'save': 381, u'voice': 466, u'allows': 11, u'photographer': 322, u'device': 118, u'reality': 371, u'together': 444, u'dance': 106, u'bring': 60, u'discover': 122, u'change': 74, u'super': 421, u'live': 255, u'dedicated': 114, u'write': 491, u'arduino': 25, u'en': 131, u'space': 409, u'shows': 396, u'online': 305, u'professional': 351, u'style': 419, u'learning': 245, u'media': 275, u'theater': 437, u'touch': 447, u'read': 366, u'business': 66, u'trying': 453, u'building': 64, u'real': 370, u'android': 17, u'fully': 176, u'mobile': 281, u'battery': 42, u'uses': 462, u'run': 380, u'raspberry': 365, u'adults': 4, u'sharing': 393, u'go': 191, u'software': 403, u'man': 273, u'need': 294, u'written': 494, u'group': 197, u'piece': 329, u'using': 463, u'new': 297, u'ever': 138, u'never': 296, u'tell': 434, u'give': 189, u'better': 49, u'journal': 233, u'form': 168, u'classic': 81, u'digital': 121, u'finally': 161, u'word': 483, u'diy': 123, u'growing': 198, u'english': 133, u'nyc': 302, u'designed': 116, u'girl': 187, u'living': 257, u'language': 240, u'theatre': 438, u'order': 307, u'contemporary': 96, u'black': 52, u'calendar': 67, u'behind': 47, u'reading': 368, u'arts': 30, u'audience': 32, u'island': 229, u'students': 417, u'children': 78, u'movement': 285, u'search': 384, u'different': 120, u'everyone': 140, u'funding': 179, u'interactive': 223, u'build': 63, u'fine': 163, u'find': 162, u'mind': 280, u'annual': 18, u'raise': 363, u'create': 101, u'fun': 177, u'big': 50, u'bit': 51, u'back': 39, u'anywhere': 22, u'body': 55, u'others': 309, u'fringe': 174, u'collection': 83, u'road': 377, u'la': 239, u'winning': 478, u'age': 8, u'day': 109, u'south': 408, u'time': 442, u'ipad': 227, u'coloring': 85, u'photographs': 324, u'photography': 325, u'film': 160, u'worlds': 489, u'works': 487, u'brand': 59, u'every': 139, u'zine': 499, u'enjoy': 134, u'studio': 418, u'york': 497, u'must': 290, u'join': 232, u'end': 132, u'writing': 493, u'celebrating': 72, u'fiction': 158, u'god': 193, u'free': 170, u'tool': 446, u'inspire': 220, u'photo': 321, u'published': 358, u'characters': 75, u'christmas': 79, u'two': 455, u'solar': 404, u'artwork': 31, u'water': 472, u'food': 167, u'along': 12, u'pre': 341, u'good': 195, u'model': 282, u'connect': 95, u'follow': 166, u'design': 115, u'readers': 367, u'generation': 185, u'health': 204, u'teach': 430, u'part': 314, u'art': 27, u'pi': 327, u'built': 65, u'exhibition': 143, u'fast': 151, u'issues': 231, u'affordable': 7, u'use': 461, u'usb': 460, u'women': 482, u'funds': 180, u'please': 333, u'hardcover': 203, u'words': 484, u'know': 238, u'trilogy': 451, u'apps': 24, u'record': 372, u'book': 56, u'album': 10}\n",
      "\n",
      "{0: u'across', 1: u'action', 2: u'add', 3: u'adult', 4: u'adults', 5: u'adventure', 6: u'adventures', 7: u'affordable', 8: u'age', 9: u'ages', 10: u'album', 11: u'allows', 12: u'along', 13: u'also', 14: u'amazing', 15: u'america', 16: u'american', 17: u'android', 18: u'annual', 19: u'anthology', 20: u'anyone', 21: u'anything', 22: u'anywhere', 23: u'app', 24: u'apps', 25: u'arduino', 26: u'around', 27: u'art', 28: u'artist', 29: u'artists', 30: u'arts', 31: u'artwork', 32: u'audience', 33: u'audio', 34: u'author', 35: u'authors', 36: u'available', 37: u'award', 38: u'awesome', 39: u'back', 40: u'band', 41: u'based', 42: u'battery', 43: u'beautiful', 44: u'beautifully', 45: u'beauty', 46: u'become', 47: u'behind', 48: u'best', 49: u'better', 50: u'big', 51: u'bit', 52: u'black', 53: u'bluetooth', 54: u'board', 55: u'body', 56: u'book', 57: u'books', 58: u'boy', 59: u'brand', 60: u'bring', 61: u'bringing', 62: u'brings', 63: u'build', 64: u'building', 65: u'built', 66: u'business', 67: u'calendar', 68: u'camera', 69: u'capture', 70: u'case', 71: u'cd', 72: u'celebrating', 73: u'century', 74: u'change', 75: u'characters', 76: u'charge', 77: u'child', 78: u'children', 79: u'christmas', 80: u'city', 81: u'classic', 82: u'coffee', 83: u'collection', 84: u'color', 85: u'coloring', 86: u'com', 87: u'come', 88: u'comedy', 89: u'coming', 90: u'community', 91: u'company', 92: u'compatible', 93: u'complete', 94: u'computer', 95: u'connect', 96: u'contemporary', 97: u'control', 98: u'cool', 99: u'cost', 100: u'cover', 101: u'create', 102: u'created', 103: u'creating', 104: u'creative', 105: u'culture', 106: u'dance', 107: u'dark', 108: u'data', 109: u'day', 110: u'days', 111: u'de', 112: u'death', 113: u'debut', 114: u'dedicated', 115: u'design', 116: u'designed', 117: u'development', 118: u'device', 119: u'devices', 120: u'different', 121: u'digital', 122: u'discover', 123: u'diy', 124: u'dog', 125: u'dream', 126: u'dreams', 127: u'earth', 128: u'easy', 129: u'edinburgh', 130: u'edition', 131: u'en', 132: u'end', 133: u'english', 134: u'enjoy', 135: u'epic', 136: u'essays', 137: u'even', 138: u'ever', 139: u'every', 140: u'everyone', 141: u'everything', 142: u'exciting', 143: u'exhibition', 144: u'experience', 145: u'explore', 146: u'explores', 147: u'exploring', 148: u'eyes', 149: u'family', 150: u'fantasy', 151: u'fast', 152: u'favorite', 153: u'features', 154: u'featuring', 155: u'female', 156: u'festival', 157: u'fi', 158: u'fiction', 159: u'filled', 160: u'film', 161: u'finally', 162: u'find', 163: u'fine', 164: u'first', 165: u'five', 166: u'follow', 167: u'food', 168: u'form', 169: u'four', 170: u'free', 171: u'friend', 172: u'friends', 173: u'friendship', 174: u'fringe', 175: u'full', 176: u'fully', 177: u'fun', 178: u'fund', 179: u'funding', 180: u'funds', 181: u'funny', 182: u'future', 183: u'game', 184: u'games', 185: u'generation', 186: u'get', 187: u'girl', 188: u'girls', 189: u'give', 190: u'gives', 191: u'go', 192: u'goal', 193: u'god', 194: u'going', 195: u'good', 196: u'great', 197: u'group', 198: u'growing', 199: u'guide', 200: u'hand', 201: u'hands', 202: u'hard', 203: u'hardcover', 204: u'health', 205: u'heart', 206: u'help', 207: u'helps', 208: u'high', 209: u'history', 210: u'home', 211: u'hope', 212: u'horror', 213: u'human', 214: u'ideas', 215: u'illustrated', 216: u'illustrations', 217: u'images', 218: u'imagination', 219: u'innovative', 220: u'inspire', 221: u'inspired', 222: u'inspiring', 223: u'interactive', 224: u'international', 225: u'internet', 226: u'interviews', 227: u'ipad', 228: u'iphone', 229: u'island', 230: u'issue', 231: u'issues', 232: u'join', 233: u'journal', 234: u'journey', 235: u'keep', 236: u'kids', 237: u'kit', 238: u'know', 239: u'la', 240: u'language', 241: u'large', 242: u'last', 243: u'launch', 244: u'learn', 245: u'learning', 246: u'led', 247: u'let', 248: u'lets', 249: u'life', 250: u'light', 251: u'like', 252: u'limited', 253: u'literary', 254: u'little', 255: u'live', 256: u'lives', 257: u'living', 258: u'local', 259: u'london', 260: u'long', 261: u'look', 262: u'looking', 263: u'lost', 264: u'love', 265: u'low', 266: u'made', 267: u'magazine', 268: u'magic', 269: u'magical', 270: u'make', 271: u'makes', 272: u'making', 273: u'man', 274: u'many', 275: u'media', 276: u'meet', 277: u'meets', 278: u'memoir', 279: u'men', 280: u'mind', 281: u'mobile', 282: u'model', 283: u'modern', 284: u'money', 285: u'movement', 286: u'much', 287: u'music', 288: u'musical', 289: u'musicians', 290: u'must', 291: u'mystery', 292: u'natural', 293: u'nature', 294: u'need', 295: u'needs', 296: u'never', 297: u'new', 298: u'next', 299: u'night', 300: u'non', 301: u'novel', 302: u'nyc', 303: u'old', 304: u'one', 305: u'online', 306: u'open', 307: u'order', 308: u'original', 309: u'others', 310: u'page', 311: u'pages', 312: u'paper', 313: u'parents', 314: u'part', 315: u'past', 316: u'people', 317: u'perfect', 318: u'performance', 319: u'personal', 320: u'phone', 321: u'photo', 322: u'photographer', 323: u'photographic', 324: u'photographs', 325: u'photography', 326: u'photos', 327: u'pi', 328: u'picture', 329: u'piece', 330: u'place', 331: u'platform', 332: u'play', 333: u'please', 334: u'podcast', 335: u'poems', 336: u'poetry', 337: u'portable', 338: u'power', 339: u'powered', 340: u'powerful', 341: u'pre', 342: u'present', 343: u'presents', 344: u'press', 345: u'print', 346: u'printed', 347: u'printer', 348: u'printing', 349: u'produce', 350: u'production', 351: u'professional', 352: u'program', 353: u'project', 354: u'projects', 355: u'public', 356: u'publication', 357: u'publish', 358: u'published', 359: u'publishing', 360: u'put', 361: u'quality', 362: u'radio', 363: u'raise', 364: u'raising', 365: u'raspberry', 366: u'read', 367: u'readers', 368: u'reading', 369: u'ready', 370: u'real', 371: u'reality', 372: u'record', 373: u'recording', 374: u'release', 375: u'research', 376: u'right', 377: u'road', 378: u'robot', 379: u'rock', 380: u'run', 381: u'save', 382: u'school', 383: u'science', 384: u'search', 385: u'season', 386: u'second', 387: u'see', 388: u'self', 389: u'series', 390: u'set', 391: u'shakespeare', 392: u'share', 393: u'sharing', 394: u'short', 395: u'show', 396: u'shows', 397: u'simple', 398: u'six', 399: u'small', 400: u'smart', 401: u'smartphone', 402: u'social', 403: u'software', 404: u'solar', 405: u'songs', 406: u'sound', 407: u'source', 408: u'south', 409: u'space', 410: u'special', 411: u'st', 412: u'stage', 413: u'start', 414: u'stories', 415: u'story', 416: u'student', 417: u'students', 418: u'studio', 419: u'style', 420: u'summer', 421: u'super', 422: u'support', 423: u'system', 424: u'table', 425: u'take', 426: u'takes', 427: u'taking', 428: u'tale', 429: u'tales', 430: u'teach', 431: u'teaches', 432: u'team', 433: u'technology', 434: u'tell', 435: u'tells', 436: u'th', 437: u'theater', 438: u'theatre', 439: u'things', 440: u'think', 441: u'three', 442: u'time', 443: u'today', 444: u'together', 445: u'told', 446: u'tool', 447: u'touch', 448: u'tour', 449: u'traditional', 450: u'travel', 451: u'trilogy', 452: u'true', 453: u'trying', 454: u'turn', 455: u'two', 456: u'ultimate', 457: u'unique', 458: u'urban', 459: u'us', 460: u'usb', 461: u'use', 462: u'uses', 463: u'using', 464: u'video', 465: u'visual', 466: u'voice', 467: u'volume', 468: u'want', 469: u'wants', 470: u'war', 471: u'watch', 472: u'water', 473: u'way', 474: u'web', 475: u'website', 476: u'well', 477: u'west', 478: u'winning', 479: u'wireless', 480: u'without', 481: u'woman', 482: u'women', 483: u'word', 484: u'words', 485: u'work', 486: u'working', 487: u'works', 488: u'world', 489: u'worlds', 490: u'would', 491: u'write', 492: u'writers', 493: u'writing', 494: u'written', 495: u'year', 496: u'years', 497: u'york', 498: u'young', 499: u'zine'}\n",
      "\n",
      "Top 10 words for failed campaigns: \n",
      "help\n",
      "website\n",
      "new\n",
      "online\n",
      "social\n",
      "people\n",
      "world\n",
      "platform\n",
      "make\n",
      "create\n",
      "\n",
      "Top 10 words for successful campaigns: \n",
      "book\n",
      "help\n",
      "new\n",
      "world\n",
      "first\n",
      "story\n",
      "art\n",
      "children\n",
      "one\n",
      "life\n"
     ]
    }
   ],
   "source": [
    "# Reverse dictionary for Fail, and print top 10 words.\n",
    "print fail_vectorizer.vocabulary_\n",
    "new_fail = {v: k for k, v in fail_vectorizer.vocabulary_.iteritems()}\n",
    "print '\\n', new_fail\n",
    "\n",
    "# Reverse dictionary for Success, and print top 10 words.\n",
    "print success_vectorizer.vocabulary_\n",
    "new_success = {v: k for k, v in success_vectorizer.vocabulary_.iteritems()}\n",
    "print '\\n', new_success\n",
    "\n",
    "print '\\nTop 10 words for failed campaigns: '\n",
    "for index in top_ten_fail.index[0:10]:\n",
    "    print new_fail[index]\n",
    "print '\\nTop 10 words for successful campaigns: '\n",
    "for index in top_ten_success.index[0:10]:\n",
    "    print new_success[index]"
   ]
  },
  {
   "cell_type": "code",
   "execution_count": null,
   "metadata": {
    "collapsed": true
   },
   "outputs": [],
   "source": []
  },
  {
   "cell_type": "code",
   "execution_count": null,
   "metadata": {
    "collapsed": true
   },
   "outputs": [],
   "source": []
  },
  {
   "cell_type": "code",
   "execution_count": null,
   "metadata": {
    "collapsed": true
   },
   "outputs": [],
   "source": []
  },
  {
   "cell_type": "code",
   "execution_count": null,
   "metadata": {
    "collapsed": true
   },
   "outputs": [],
   "source": []
  }
 ],
 "metadata": {
  "kernelspec": {
   "display_name": "Python 2",
   "language": "python",
   "name": "python2"
  },
  "language_info": {
   "codemirror_mode": {
    "name": "ipython",
    "version": 2
   },
   "file_extension": ".py",
   "mimetype": "text/x-python",
   "name": "python",
   "nbconvert_exporter": "python",
   "pygments_lexer": "ipython2",
   "version": "2.7.10"
  }
 },
 "nbformat": 4,
 "nbformat_minor": 2
}
